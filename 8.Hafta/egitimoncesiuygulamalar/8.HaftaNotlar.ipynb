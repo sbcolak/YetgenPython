{
 "cells": [
  {
   "cell_type": "markdown",
   "id": "d42d21c2",
   "metadata": {},
   "source": [
    "DOSYA OKUMA İŞLEMLERİ\n",
    "\n",
    "Dosya acmak ya da olusturmak icin open() kullanılır.\n",
    "open(dosyaAdi, dosyaModu)\n",
    "dosyaModu : dosyayi hangi modda acacagini belirtir.\n",
    "r : okuma modunda acmayi saglar. belirtilen konumda dosya olmasi gerekir.\n",
    "close() : dosya kapatir"
   ]
  },
  {
   "cell_type": "code",
   "execution_count": null,
   "id": "1d0d8858",
   "metadata": {},
   "outputs": [
    {
     "name": "stdout",
     "output_type": "stream",
     "text": [
      "<_io.TextIOWrapper name='bilgiler.txt' mode='r' encoding='cp1254'>\n"
     ]
    }
   ],
   "source": [
    "#DOSYA OKUMA İŞLEMLERİ\n",
    "\n",
    "f = open(\"bilgiler.txt\")\n",
    "print(f)\n",
    "\n",
    "#mod belirtmedigim icin r yani okuma modunda acar.\n"
   ]
  },
  {
   "cell_type": "code",
   "execution_count": 4,
   "id": "2ee5f637",
   "metadata": {},
   "outputs": [],
   "source": [
    "try:\n",
    "    file = open(\"bilgiler.txt\",\"r\",encoding=\"utf-8\")\n",
    "    #utf-8 : türkce karakterlerin okunmasini saglar.\n",
    "except: \n",
    "    print(\"bu dosya bulunamadi.\")\n"
   ]
  },
  {
   "cell_type": "code",
   "execution_count": 9,
   "id": "7056dbea",
   "metadata": {},
   "outputs": [
    {
     "name": "stdout",
     "output_type": "stream",
     "text": [
      "python\n",
      "\n",
      "2025\n",
      "\n",
      "sena\n",
      "\n",
      "yetgen\n"
     ]
    }
   ],
   "source": [
    "file = open(\"bilgiler.txt\", \"r\", encoding= \"utf-8\")\n",
    "\n",
    "for i in file:\n",
    "    print(i)\n",
    "file.close()"
   ]
  },
  {
   "cell_type": "code",
   "execution_count": 11,
   "id": "4ac9f4e9",
   "metadata": {},
   "outputs": [
    {
     "name": "stdout",
     "output_type": "stream",
     "text": [
      "1.okuma dosya icerigi\n",
      " python\n",
      "2025\n",
      "sena\n",
      "yetgen\n",
      "2.okuma dosya icerigi\n",
      "python\n",
      "2025\n",
      "sena\n",
      "yetgen\n"
     ]
    }
   ],
   "source": [
    "#read() Fonksiyonu\n",
    "\n",
    "#read fonk icine hicbir deger vermezsek bütün dosyayı okur.\n",
    "\n",
    "file = open(\"bilgiler.txt\",\"r\",encoding=\"utf-8\")\n",
    "icerik = file.read()\n",
    "print(\"1.okuma dosya icerigi\\n\", icerik, sep=\" \")\n",
    "icerik2 = file.read()\n",
    "print(\"2.okuma dosya icerigi\\n\", icerik, sep=\"\")\n",
    "file.close()"
   ]
  },
  {
   "cell_type": "markdown",
   "id": "473089cb",
   "metadata": {},
   "source": [
    "read() fonksiyonu ile bir dosyayı okudugumuzda dosya imlecimiz dosyanın en sonuna gider ve read() fonk 2.okumada bos string döner."
   ]
  },
  {
   "cell_type": "markdown",
   "id": "51421436",
   "metadata": {},
   "source": [
    "readline() Fonksiyonu\n",
    "\n",
    "her calıstıgında bir satırı okur."
   ]
  },
  {
   "cell_type": "code",
   "execution_count": 12,
   "id": "f4419957",
   "metadata": {},
   "outputs": [
    {
     "name": "stdout",
     "output_type": "stream",
     "text": [
      "python\n",
      "\n"
     ]
    }
   ],
   "source": [
    "file = open(\"bilgiler.txt\", \"r\", encoding= \"utf -8\")\n",
    "print(file.readline())"
   ]
  },
  {
   "cell_type": "code",
   "execution_count": 13,
   "id": "8e988da8",
   "metadata": {},
   "outputs": [
    {
     "name": "stdout",
     "output_type": "stream",
     "text": [
      "2025\n",
      "\n"
     ]
    }
   ],
   "source": [
    "print(file.readline())"
   ]
  },
  {
   "cell_type": "code",
   "execution_count": 14,
   "id": "247fb86c",
   "metadata": {},
   "outputs": [
    {
     "name": "stdout",
     "output_type": "stream",
     "text": [
      "sena\n",
      "\n"
     ]
    }
   ],
   "source": [
    "print(file.readline())"
   ]
  },
  {
   "cell_type": "code",
   "execution_count": 15,
   "id": "0ed4e859",
   "metadata": {},
   "outputs": [
    {
     "name": "stdout",
     "output_type": "stream",
     "text": [
      "yetgen\n"
     ]
    }
   ],
   "source": [
    "print(file.readline())"
   ]
  },
  {
   "cell_type": "code",
   "execution_count": null,
   "id": "10f331e7",
   "metadata": {},
   "outputs": [
    {
     "name": "stdout",
     "output_type": "stream",
     "text": [
      "\n"
     ]
    }
   ],
   "source": [
    "print(file.readline())\n",
    "#en sonda dosyanın tüm satirlarini okudugu icin bos doner."
   ]
  },
  {
   "cell_type": "code",
   "execution_count": 17,
   "id": "f20e84f7",
   "metadata": {},
   "outputs": [],
   "source": [
    "file.close()"
   ]
  },
  {
   "cell_type": "code",
   "execution_count": null,
   "id": "14c5c474",
   "metadata": {},
   "outputs": [
    {
     "name": "stdout",
     "output_type": "stream",
     "text": [
      "['python\\n', '2025\\n', 'sena\\n', 'yetgen']\n"
     ]
    }
   ],
   "source": [
    "file = open(\"bilgiler.txt\", \"r\", encoding= \"utf -8\")\n",
    "print(file.readlines())\n",
    "#readlines calistirdigimizda tüm satirlari liste olarak doner"
   ]
  },
  {
   "cell_type": "code",
   "execution_count": 19,
   "id": "35f1ffb5",
   "metadata": {},
   "outputs": [],
   "source": [
    "file.close()"
   ]
  },
  {
   "cell_type": "markdown",
   "id": "ebe276c8",
   "metadata": {},
   "source": [
    "DOSYAYA YAZMA\n",
    "\n",
    "w : yazma modu - write modunda dosyayı konumda olusturur. eger dosya mevcut ise dosyayı siler ve yenisini olusturur. \n",
    "\n",
    "a : append (ekleme) modu - dosya konumda yoksa olusturur. eger varsa ekleme islemi yapar.\n",
    "\n",
    "r+ : hem okuma hem yazma modudur. dosya konumda yoksa hata verir.\n",
    "\n"
   ]
  },
  {
   "cell_type": "code",
   "execution_count": null,
   "id": "1eda1dcd",
   "metadata": {},
   "outputs": [],
   "source": [
    "file = open(\"bilgiler.txt\", \"w\", encoding= \"utf-8\")\n",
    "file.write(\"YetGen\\n\")\n",
    "file.close()"
   ]
  },
  {
   "cell_type": "code",
   "execution_count": 23,
   "id": "d8b9e6f6",
   "metadata": {},
   "outputs": [],
   "source": [
    "file = open(\"bilgiler.txt\",\"a\",encoding=\"utf-8\")\n",
    "file.write(\"Jump\\n\")\n",
    "file.close()"
   ]
  },
  {
   "cell_type": "code",
   "execution_count": null,
   "id": "93b825c9",
   "metadata": {},
   "outputs": [],
   "source": [
    "file = open(\"bilgiler.txt\",\"r+\",encoding=\"utf-8\")\n",
    "file.write(\"ython\\n\")\n",
    "file.close() "
   ]
  },
  {
   "cell_type": "markdown",
   "id": "4dcb7f74",
   "metadata": {},
   "source": [
    "Dosyaları Otomatik Kapatma\n",
    "\n",
    "with  open(dosyaAdi, dosyaKipi) as file:\n",
    "    Dosya işlemleri"
   ]
  },
  {
   "cell_type": "code",
   "execution_count": 26,
   "id": "3ec1be20",
   "metadata": {},
   "outputs": [
    {
     "name": "stdout",
     "output_type": "stream",
     "text": [
      "ython\n",
      "\n",
      "\n",
      "\n",
      "Jump\n",
      "\n"
     ]
    }
   ],
   "source": [
    "with open(\"bilgiler.txt\",\"r\",encoding=\"utf-8\") as file:\n",
    "    for i in file:\n",
    "        print(i)"
   ]
  },
  {
   "cell_type": "markdown",
   "id": "33a10fc9",
   "metadata": {},
   "source": [
    "Dosyayı İleri-Geri Sarmak\n",
    "\n",
    "seek() metodunu kullnarak istedigimiz bayt(karakter) konumuna dönebiliriz.\n",
    "dosyanin hangi bayt konumunda bulundugunu ogrenmek istersek tell() metodunu kullanabiliriz."
   ]
  },
  {
   "cell_type": "code",
   "execution_count": 27,
   "id": "4e28019f",
   "metadata": {},
   "outputs": [
    {
     "name": "stdout",
     "output_type": "stream",
     "text": [
      "20\n"
     ]
    }
   ],
   "source": [
    "with open(\"bilgiler.txt\",\"r\",encoding= \"utf-8\") as file:\n",
    "    file.seek(20)\n",
    "    print(file.tell())"
   ]
  },
  {
   "cell_type": "code",
   "execution_count": null,
   "id": "dd5bf2a4",
   "metadata": {},
   "outputs": [
    {
     "name": "stdout",
     "output_type": "stream",
     "text": [
      "\n",
      "yetgen\n",
      "py\n",
      "sena\n",
      "y\n"
     ]
    }
   ],
   "source": [
    "with open(\"bilgiler.txt\",\"r\",encoding= \"utf-8\") as file:\n",
    "    file.seek(5) #dosya imleci 5.karaktere gelir\n",
    "    icerik = file.read(10) #imlec 5.karakterdeyken buradan itibaren 10 karakter okunur\n",
    "    print(icerik)\n",
    "    file.seek(0) #imleç en başa döner\n",
    "    icerik2 = file.read(6) #dosyanin basindan itibaren 6 karakter okur\n",
    "    print(icerik2)\n",
    "\n",
    "    #okuma yaparken dosya icerigindeki alt satıra gecen \\n 1 karakter olarak sayar."
   ]
  },
  {
   "cell_type": "markdown",
   "id": "5be2401f",
   "metadata": {},
   "source": [
    "DOSYANIN SONUNDA DEĞİŞİKLİK YAPMAK"
   ]
  },
  {
   "cell_type": "code",
   "execution_count": null,
   "id": "40014bb1",
   "metadata": {},
   "outputs": [],
   "source": [
    "with open(\"bilgiler.txt\",\"r+\",encoding= \"utf-8\") as file:\n",
    "    file.seek(10)\n",
    "    file.write(\"deneme\") \n",
    "    #sonunda dedik ama benim 10 karakterden fazla yazım vardı ve sonuna degil ortasına eklemis oldu"
   ]
  },
  {
   "cell_type": "code",
   "execution_count": 34,
   "id": "003c864b",
   "metadata": {},
   "outputs": [
    {
     "name": "stdout",
     "output_type": "stream",
     "text": [
      "sena\n",
      "yetgdenemethon\n",
      "2025\n"
     ]
    }
   ],
   "source": [
    "with open(\"bilgiler.txt\",\"r+\",encoding= \"utf-8\") as file:\n",
    "    print(file.read())"
   ]
  },
  {
   "cell_type": "markdown",
   "id": "f45fae54",
   "metadata": {},
   "source": [
    "DOSYANIN BAŞINDA DEĞİŞİKLİK YAPMAK"
   ]
  },
  {
   "cell_type": "code",
   "execution_count": 35,
   "id": "f27ad820",
   "metadata": {},
   "outputs": [],
   "source": [
    "with open(\"bilgiler.txt\",\"r+\",encoding= \"utf-8\") as file:\n",
    "    icerik = file.read()\n",
    "    icerik = \"Deneme\\n\" + icerik\n",
    "    file.seek(0)\n",
    "    file.write(icerik)"
   ]
  },
  {
   "cell_type": "code",
   "execution_count": 36,
   "id": "329e35c5",
   "metadata": {},
   "outputs": [
    {
     "name": "stdout",
     "output_type": "stream",
     "text": [
      "Deneme\n",
      "sena\n",
      "yetgdenemethon\n",
      "2025\n"
     ]
    }
   ],
   "source": [
    "with open(\"bilgiler.txt\",\"r+\",encoding= \"utf-8\") as file:\n",
    "    print(file.read())"
   ]
  },
  {
   "cell_type": "markdown",
   "id": "f1e9ea84",
   "metadata": {},
   "source": [
    "DOSYANIN ORTASINDA DEGİSİKLİK YAPMAK"
   ]
  },
  {
   "cell_type": "code",
   "execution_count": 37,
   "id": "42ab0335",
   "metadata": {},
   "outputs": [],
   "source": [
    "with open(\"bilgiler.txt\",\"r+\",encoding= \"utf-8\") as file:\n",
    "    liste = file.readlines()\n",
    "    liste.insert(3,\"pazar\\n\")\n",
    "    file.seek(0)\n",
    "    file.writelines(liste)"
   ]
  },
  {
   "cell_type": "code",
   "execution_count": 38,
   "id": "41df27ad",
   "metadata": {},
   "outputs": [
    {
     "name": "stdout",
     "output_type": "stream",
     "text": [
      "Deneme\n",
      "sena\n",
      "yetgdenemethon\n",
      "pazar\n",
      "2025\n"
     ]
    }
   ],
   "source": [
    "with open(\"bilgiler.txt\",\"r+\",encoding= \"utf-8\") as file:\n",
    "    print(file.read())"
   ]
  },
  {
   "cell_type": "markdown",
   "id": "c460298b",
   "metadata": {},
   "source": [
    "NESNE YÖNELİMLİ PROGRAMLAMA(OOP)\n",
    "\n",
    "# DRY(Dont Repeat Yourself)\n",
    "\n",
    "CLASS - sınıflar objelerimizi olustururken objelerin özelliklerini ve metodlarını tanımladıgımız bir yapidir."
   ]
  },
  {
   "cell_type": "code",
   "execution_count": 39,
   "id": "57b06ff0",
   "metadata": {},
   "outputs": [],
   "source": [
    "class Araba():\n",
    "    #Sınıf Özellikleri(Attribute)\n",
    "    model = \"Renault Megane\"\n",
    "    renk = \"Gumus\"\n",
    "    beygirGucu = 110\n",
    "    silindir = 4"
   ]
  },
  {
   "cell_type": "markdown",
   "id": "d06fe598",
   "metadata": {},
   "source": [
    "OBJE OLUSTURMA\n",
    "\n",
    "obje_ismi = sinif_ismi(parametreler(opsiyonel))\n",
    "\n",
    "Özelliklere Erişme\n",
    "\n",
    "obje_ismi.ozellik_ismi"
   ]
  },
  {
   "cell_type": "code",
   "execution_count": 42,
   "id": "4326e4b0",
   "metadata": {},
   "outputs": [
    {
     "name": "stdout",
     "output_type": "stream",
     "text": [
      "Renault Megane\n",
      "Gumus\n"
     ]
    }
   ],
   "source": [
    "araba1 = Araba()\n",
    "print(araba1.model)\n",
    "print(araba1.renk)"
   ]
  },
  {
   "cell_type": "code",
   "execution_count": 44,
   "id": "c9af45a2",
   "metadata": {},
   "outputs": [
    {
     "name": "stdout",
     "output_type": "stream",
     "text": [
      "kus\n"
     ]
    }
   ],
   "source": [
    "class animal:\n",
    "    name = \"kus\"\n",
    "    print(name)"
   ]
  },
  {
   "cell_type": "markdown",
   "id": "a4aa03e3",
   "metadata": {},
   "source": [
    "init()\n",
    "\n",
    "pythonda yapıcı(constructor) fonk olarak tanımlanmaktadır. bu metod objelerimiz olusturulurken otomatik olarak ilk cagrılan fonksiyondur. bu metodu özel olarak tanımlayarak objelerimizi farklı degerlerle olusturabiliriz."
   ]
  },
  {
   "cell_type": "code",
   "execution_count": null,
   "id": "a6ba5e94",
   "metadata": {},
   "outputs": [
    {
     "name": "stdout",
     "output_type": "stream",
     "text": [
      "init fonk calisti\n"
     ]
    }
   ],
   "source": [
    "class Araba():\n",
    "    def __init__(self):\n",
    "        print(\"init fonk calisti\")\n",
    "araba = Araba()\n",
    "\n",
    "#ANLAMADIM NE YAPTİ?"
   ]
  },
  {
   "cell_type": "code",
   "execution_count": null,
   "id": "f6f28239",
   "metadata": {},
   "outputs": [],
   "source": [
    "# self anahtar kelimesi objeyi olusturdugunuz zaman o objeyi gösteren bir referanstir.\n",
    "# metodlarimizda en basta bulunmasi gereken bir parametredir."
   ]
  },
  {
   "cell_type": "code",
   "execution_count": 46,
   "id": "aac13766",
   "metadata": {},
   "outputs": [],
   "source": [
    "class Araba():\n",
    "    def __init__(self, model, renk, beygir, silindir):\n",
    "        self.model = model\n",
    "        self.renk = renk\n",
    "        self.beygir = beygir\n",
    "        self.silindir = silindir\n",
    "    \n"
   ]
  },
  {
   "cell_type": "code",
   "execution_count": 48,
   "id": "59809ef5",
   "metadata": {},
   "outputs": [
    {
     "name": "stdout",
     "output_type": "stream",
     "text": [
      "peugeot 301\n"
     ]
    }
   ],
   "source": [
    "araba2 = Araba(\"peugeot 301\",\"beyaz\",90,4)\n",
    "print(araba2.model)"
   ]
  },
  {
   "cell_type": "markdown",
   "id": "5fa413c1",
   "metadata": {},
   "source": [
    "UYGULAMA \n",
    "\n",
    "- comment isminde bir sınıf olusturunuz\n",
    "- comment sınıfı username, text, likes, dislikes, isminde ozellikleri olsun\n",
    "- 5 adet farklı comment olusturup döngü ile yorumları ekrana yazdır"
   ]
  },
  {
   "cell_type": "code",
   "execution_count": 50,
   "id": "b4671481",
   "metadata": {},
   "outputs": [
    {
     "name": "stdout",
     "output_type": "stream",
     "text": [
      "berkcan : python ogreniyorum yorumunu yaptı 43 begeni aldı. 1 dislike aldı.\n",
      "sena : egitimde 8.haftamiz yorumunu yaptı 50 begeni aldı. 10 dislike aldı.\n",
      "buse : bu seneki ju...... yorumunu yaptı 100 begeni aldı. 10 dislike aldı.\n",
      "emirhan : liderler ekibixxxx yorumunu yaptı 50 begeni aldı. 1 dislike aldı.\n",
      "jumper : liderler cok calisiyor yorumunu yaptı 8 begeni aldı. 1 dislike aldı.\n"
     ]
    }
   ],
   "source": [
    "class comment():\n",
    "    def __init__(self, username, text, likes, dislikes):\n",
    "        self.username = username\n",
    "        self.text = text\n",
    "        self.likes = likes\n",
    "        self.dislikes = dislikes\n",
    "\n",
    "c1 = comment(\"berkcan\",\"python ogreniyorum\",43,1)\n",
    "c2 = comment(\"sena\",\"egitimde 8.haftamiz\",50,10)\n",
    "c3 = comment(\"buse\",\"bu seneki ju......\",100,10)\n",
    "c4 = comment(\"emirhan\",\"liderler ekibixxxx\",50,1)\n",
    "c5 = comment(\"jumper\",\"liderler cok calisiyor\",8,1)\n",
    "\n",
    "comments = [c1,c2,c3,c4,c5]\n",
    "\n",
    "for c in comments:\n",
    "    print(f\"{c.username} : {c.text} yorumunu yaptı {c.likes} begeni aldı. {c.dislikes} dislike aldı.\")\n"
   ]
  },
  {
   "cell_type": "code",
   "execution_count": null,
   "id": "cfd022f5",
   "metadata": {},
   "outputs": [],
   "source": []
  }
 ],
 "metadata": {
  "kernelspec": {
   "display_name": "Python 3",
   "language": "python",
   "name": "python3"
  },
  "language_info": {
   "codemirror_mode": {
    "name": "ipython",
    "version": 3
   },
   "file_extension": ".py",
   "mimetype": "text/x-python",
   "name": "python",
   "nbconvert_exporter": "python",
   "pygments_lexer": "ipython3",
   "version": "3.13.2"
  }
 },
 "nbformat": 4,
 "nbformat_minor": 5
}
