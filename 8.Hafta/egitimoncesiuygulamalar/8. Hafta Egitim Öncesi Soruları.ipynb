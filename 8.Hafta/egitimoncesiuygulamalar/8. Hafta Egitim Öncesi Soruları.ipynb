{
 "cells": [
  {
   "cell_type": "markdown",
   "metadata": {
    "id": "Pzh44PAE5H61"
   },
   "source": [
    "# Problem 1 \n",
    "Kullanıcıdan aldığı ürün bilgisini (ad, fiyat) urunler.txt dosyasına kayıt eden fonksiyonu yazınız."
   ]
  },
  {
   "cell_type": "code",
   "execution_count": 10,
   "metadata": {
    "id": "uKw3Wap95H64"
   },
   "outputs": [
    {
     "name": "stdout",
     "output_type": "stream",
     "text": [
      "urun basariyla kaydedildi\n",
      "tv, 1000\n",
      "\n"
     ]
    }
   ],
   "source": [
    "# 1.Problemin Çözümünü Buraya Yazınız\n",
    "\n",
    "def urunKaydet():\n",
    "    ad = input(\"urun adini girin: \")\n",
    "    fiyat = input(\"urun fiyatini girin: \")\n",
    "\n",
    "    try:\n",
    "        with open(\"urunler.txt\", \"a\", encoding=\"utf-8\") as file:\n",
    "            file.write(f\"{ad}, {fiyat}\\n\")\n",
    "        print(\"urun basariyla kaydedildi\")\n",
    "    except Exception as e:\n",
    "        print(\"bir hata olustu: \", e)\n",
    "\n",
    "urunKaydet()\n",
    "\n",
    "with open(\"urunler.txt\", \"r\", encoding=\"utf-8\") as file:\n",
    "    print(file.read())\n"
   ]
  },
  {
   "cell_type": "markdown",
   "metadata": {
    "id": "Lw7xy19D5H66"
   },
   "source": [
    "# Problem 2\n",
    "1.problemde oluşturulan text dosyası içerisinde kullanıcıdan alacağımız eski kelime isimli değişkene atadığımız \n",
    "ve değiştirilmesini istediğimiz kelimemizi yerini alıcak olan yeni kelime isimli değişkene atayın. Belirlenen kelimeleri text dosyasında değiştiren fonksiyonu yazınız."
   ]
  },
  {
   "cell_type": "code",
   "execution_count": null,
   "metadata": {
    "id": "jDlym3ko5H66"
   },
   "outputs": [
    {
     "name": "stdout",
     "output_type": "stream",
     "text": [
      "kelime basariyla degistirildi.\n",
      "televizyon, 1000\n",
      "\n"
     ]
    }
   ],
   "source": [
    "# 2.Problemin Çözümünü Buraya Yazınız\n",
    "\n",
    "def degistir():\n",
    "    eski_kelime = input(\"eski kelimeyi girin: \")\n",
    "    yeni_kelime = input(\"yeni kelimeyi girin: \")\n",
    "\n",
    "    try:\n",
    "        with open(\"urunler.txt\", \"r\", encoding=\"utf-8\") as file:\n",
    "            satirlar = file.readlines()\n",
    "\n",
    "        yeni_satirlar = [satir.replace(eski_kelime, yeni_kelime) for satir in satirlar]\n",
    "\n",
    "        with open(\"urunler.txt\", \"w\", encoding=\"utf-8\") as file:\n",
    "            file.writelines(yeni_satirlar)\n",
    "\n",
    "        print(\"kelime basariyla degistirildi.\")\n",
    "    except Exception as e:\n",
    "        print(\"bir hata olustu:\", e)\n",
    "\n",
    "degistir()\n",
    "\n",
    "with open(\"urunler.txt\", \"r\", encoding=\"utf-8\") as file:\n",
    "    print(file.read())"
   ]
  },
  {
   "cell_type": "markdown",
   "metadata": {
    "id": "3aSYk4FF5H67"
   },
   "source": [
    "# Problem 3\n",
    "Vehicle sınıfının tüm değişkenlerini ve yöntemlerini devralacak bir alt sınıf olarak Bus sınıfı oluşturunuz.\n",
    "\n",
    "\n",
    "\n",
    "```\n",
    "Output\n",
    "> Name: School Volvo Speed: 180 Mileage: 12\n",
    "```\n"
   ]
  },
  {
   "cell_type": "code",
   "execution_count": 17,
   "metadata": {
    "id": "PwCI6Xkb5H68"
   },
   "outputs": [
    {
     "name": "stdout",
     "output_type": "stream",
     "text": [
      "School Volvo\n",
      "180\n",
      "12\n"
     ]
    }
   ],
   "source": [
    "# 3.Problemin Çözümünü Buraya Yazınız\n",
    "\n",
    "class Vehicle():\n",
    "    def __init__(self, name, speed, mileage):\n",
    "        self.name = name\n",
    "        self.speed = speed\n",
    "        self.mileage = mileage\n",
    "\n",
    "arac = Vehicle(\"School Volvo\",180,12) \n",
    "\n",
    "class Bus(Vehicle):\n",
    "    pass\n",
    "\n",
    "print(arac.name)\n",
    "print(arac.speed)\n",
    "print(arac.mileage)"
   ]
  }
 ],
 "metadata": {
  "colab": {
   "provenance": []
  },
  "kernelspec": {
   "display_name": "Python 3",
   "language": "python",
   "name": "python3"
  },
  "language_info": {
   "codemirror_mode": {
    "name": "ipython",
    "version": 3
   },
   "file_extension": ".py",
   "mimetype": "text/x-python",
   "name": "python",
   "nbconvert_exporter": "python",
   "pygments_lexer": "ipython3",
   "version": "3.13.2"
  },
  "orig_nbformat": 4,
  "vscode": {
   "interpreter": {
    "hash": "5026d2d6e7aaaaba093def813beadff083d8733e4a511af01735cbabd156995d"
   }
  }
 },
 "nbformat": 4,
 "nbformat_minor": 0
}
