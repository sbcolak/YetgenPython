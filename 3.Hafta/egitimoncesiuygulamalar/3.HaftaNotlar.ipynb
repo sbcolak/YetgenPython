{
 "cells": [
  {
   "cell_type": "code",
   "execution_count": null,
   "metadata": {},
   "outputs": [],
   "source": [
    "#KARŞILAŞTIRMA OPERATÖRLERİ\n",
    "# == eşitlik kontrolü. eşitse true, eşit değilse false döner.\n",
    "# != eşit değil mi? eşit değilse true, eşitse false döner.\n",
    "\n",
    "a,b,c,d = 2,2,4,5\n"
   ]
  },
  {
   "cell_type": "code",
   "execution_count": 5,
   "metadata": {},
   "outputs": [
    {
     "name": "stdout",
     "output_type": "stream",
     "text": [
      "False\n",
      "True\n",
      "False\n"
     ]
    }
   ],
   "source": [
    "print(a==b)\n",
    "print(a!=b)\n",
    "print(a>=c)"
   ]
  },
  {
   "cell_type": "code",
   "execution_count": 4,
   "metadata": {},
   "outputs": [
    {
     "name": "stdout",
     "output_type": "stream",
     "text": [
      "False\n"
     ]
    }
   ],
   "source": [
    "username = \"admin\"\n",
    "password = \"12345\"\n",
    "\n",
    "print(\"sena\" == username)\n"
   ]
  },
  {
   "cell_type": "code",
   "execution_count": null,
   "metadata": {},
   "outputs": [
    {
     "name": "stdout",
     "output_type": "stream",
     "text": [
      "True\n"
     ]
    }
   ],
   "source": [
    " #MANTIKSAL OPERATÖRLER\n",
    "\n",
    "#AND \n",
    "# True - True = True\n",
    "# True - False = False\n",
    "# False - True = False\n",
    "# False - False = False\n",
    "\n",
    "x = int(input(\"bir sayı giriniz : \"))\n",
    "print(x>5 and x<100)\n"
   ]
  },
  {
   "cell_type": "code",
   "execution_count": null,
   "metadata": {},
   "outputs": [
    {
     "name": "stdout",
     "output_type": "stream",
     "text": [
      "True\n"
     ]
    }
   ],
   "source": [
    " #MANTIKSAL OPERATÖRLER\n",
    "\n",
    "#OR\n",
    "# True - True = True\n",
    "# True - False = True\n",
    "# False - True = True\n",
    "# False - False = False\n",
    "\n",
    "x = int(input(\"bir sayı giriniz : \"))\n",
    "print(x>0 or x % 2 == 0)"
   ]
  },
  {
   "cell_type": "code",
   "execution_count": 9,
   "metadata": {},
   "outputs": [
    {
     "name": "stdout",
     "output_type": "stream",
     "text": [
      "False\n"
     ]
    }
   ],
   "source": [
    " #MANTIKSAL OPERATÖRLER\n",
    " \n",
    "#NOT\n",
    "\n",
    "#True için False, False için True döner\n",
    "print(not(True))"
   ]
  },
  {
   "cell_type": "code",
   "execution_count": null,
   "metadata": {},
   "outputs": [],
   "source": [
    "#KARAR YAPILARI \n",
    "\n",
    "#if bloğu doğruysa diğer durumlara bakılmaz\n",
    "#else ve elif yapılarının kullanımı zorunlu degil\n",
    "#else yapısı if ve varsa elif yapısının false olduğu durumda ikinci durum olarak calısır.\n",
    "#elif birden fazla kosullar oldugu durumlarda kullanılır.\n",
    "\n",
    "# if kosul:\n",
    "    #kosul dogruysa calısacak kodlar\n",
    "#elif kosul2: \n",
    "    #kosul2 dogruysa calısacak kodlar\n",
    "#else:\n",
    "    #kosul ve kosul2 yanlıssa calısacak kodlar\n",
    "\n"
   ]
  },
  {
   "cell_type": "code",
   "execution_count": 12,
   "metadata": {},
   "outputs": [
    {
     "name": "stdout",
     "output_type": "stream",
     "text": [
      "if blogu calıstı\n",
      "program sonlandı\n"
     ]
    }
   ],
   "source": [
    "if 3 > 1:\n",
    "    print(\"if blogu calıstı\")\n",
    "print(\"program sonlandı\")"
   ]
  },
  {
   "cell_type": "code",
   "execution_count": 15,
   "metadata": {},
   "outputs": [
    {
     "name": "stdout",
     "output_type": "stream",
     "text": [
      "sayı2, sayı1 den büyüktür.\n"
     ]
    }
   ],
   "source": [
    "sayi1 = int(input(\"birinci sayıyı giriniz:\"))\n",
    "sayi2 = int(input(\"ikinci sayıyı giriniz:\"))\n",
    "if sayi1 > sayi2:\n",
    "    print(\"1.sayı, 2.sayıdan büyüktür\")\n",
    "elif sayi1 == sayi2:\n",
    "    print(\"sayılar birbirine eşittir\")\n",
    "else:\n",
    "    print(\"sayı2, sayı1 den büyüktür.\")\n"
   ]
  },
  {
   "cell_type": "code",
   "execution_count": 20,
   "metadata": {},
   "outputs": [
    {
     "name": "stdout",
     "output_type": "stream",
     "text": [
      "sayi1 5'ten büyüktür\n",
      "sayi2 10'dan büyüktür\n"
     ]
    }
   ],
   "source": [
    "sayi1 = 10\n",
    "sayi2 = 20\n",
    "if sayi1 > 5:\n",
    "    print(\"sayi1 5'ten büyüktür\")\n",
    "    if sayi2 > 10:\n",
    "          print(\"sayi2 10'dan büyüktür\")\n"
   ]
  },
  {
   "cell_type": "code",
   "execution_count": 21,
   "metadata": {},
   "outputs": [
    {
     "name": "stdout",
     "output_type": "stream",
     "text": [
      "varmış\n"
     ]
    }
   ],
   "source": [
    "isim = \"sena buse\"\n",
    "if \"buse\" in isim:\n",
    "    print(\"varmış\")"
   ]
  },
  {
   "cell_type": "code",
   "execution_count": 23,
   "metadata": {},
   "outputs": [
    {
     "name": "stdout",
     "output_type": "stream",
     "text": [
      "3 sayısı tektir.\n"
     ]
    }
   ],
   "source": [
    "sayi = int(input(\"bir sayı giriniz : \"))\n",
    "if sayi % 2 == 0:\n",
    "    print(f\"{sayi} sayısı çifttir.\")\n",
    "else:\n",
    "    print(f\"{sayi} sayısı tektir.\")"
   ]
  },
  {
   "cell_type": "code",
   "execution_count": 24,
   "metadata": {},
   "outputs": [
    {
     "data": {
      "text/plain": [
       "False"
      ]
     },
     "execution_count": 24,
     "metadata": {},
     "output_type": "execute_result"
    }
   ],
   "source": [
    "#IN OPERATÖRÜ\n",
    "#belirtilen bir değerin dizi, metin, liste ya da demet gibi bir dizinin öğesi olup olmadıgı kontrol eder.\n",
    "#True - false döner\n",
    "\n",
    "string = \"yetgen\"\n",
    "\"Y\" in string"
   ]
  },
  {
   "cell_type": "code",
   "execution_count": null,
   "metadata": {},
   "outputs": [],
   "source": [
    "#DÖNGÜLER\n",
    "\n",
    "#FOR DÖNGÜSÜ\n",
    "\n",
    "#eger bir döngü kosulu en bastan yanlıssa dönü hic calısmaz. buna \"sıfır acma döngüsü\" denir.\n"
   ]
  },
  {
   "cell_type": "code",
   "execution_count": 25,
   "metadata": {},
   "outputs": [
    {
     "name": "stdout",
     "output_type": "stream",
     "text": [
      "1\n",
      "2\n",
      "3\n",
      "4\n",
      "5\n"
     ]
    }
   ],
   "source": [
    "liste = [1,2,3,4,5]\n",
    "for i in liste:\n",
    "    print(i)\n",
    "    "
   ]
  },
  {
   "cell_type": "code",
   "execution_count": 26,
   "metadata": {},
   "outputs": [
    {
     "name": "stdout",
     "output_type": "stream",
     "text": [
      "1\n",
      "4\n",
      "9\n",
      "16\n",
      "25\n"
     ]
    }
   ],
   "source": [
    "for i in liste:\n",
    "    print(i**2)"
   ]
  },
  {
   "cell_type": "code",
   "execution_count": 27,
   "metadata": {},
   "outputs": [
    {
     "name": "stdout",
     "output_type": "stream",
     "text": [
      "y\n",
      "e\n",
      "t\n",
      "g\n",
      "e\n",
      "n\n",
      " \n",
      "j\n",
      "u\n",
      "m\n",
      "p\n"
     ]
    }
   ],
   "source": [
    "string = \"yetgen jump\"\n",
    "for string1 in string:\n",
    "    print(string1)"
   ]
  },
  {
   "cell_type": "code",
   "execution_count": 28,
   "metadata": {},
   "outputs": [
    {
     "name": "stdout",
     "output_type": "stream",
     "text": [
      "1\n",
      "4\n",
      "9\n",
      "16\n",
      "25\n"
     ]
    }
   ],
   "source": [
    "sayilar = \"12345\"\n",
    "for x in sayilar:\n",
    "    print(int(x)*int(x))"
   ]
  },
  {
   "cell_type": "code",
   "execution_count": 30,
   "metadata": {},
   "outputs": [
    {
     "name": "stdout",
     "output_type": "stream",
     "text": [
      "toplam : 55\n"
     ]
    }
   ],
   "source": [
    "#   wHILE DÖNGÜSÜ\n",
    "\n",
    "sum = 0\n",
    "i =1\n",
    "while i < 11:\n",
    "    sum += i #sum = sum + 1\n",
    "    i += 1\n",
    "print(\"toplam :\" , sum)\n",
    "\n"
   ]
  },
  {
   "cell_type": "code",
   "execution_count": 31,
   "metadata": {},
   "outputs": [
    {
     "name": "stdout",
     "output_type": "stream",
     "text": [
      "range(1, 10, 2)\n"
     ]
    }
   ],
   "source": [
    "#RANGE() FONKSİYONU\n",
    "#range(baslangıc, bitis, artıs miktarı) seklinde kullanılır.\n",
    "\n",
    "print(range(1,10,2))"
   ]
  },
  {
   "cell_type": "code",
   "execution_count": 32,
   "metadata": {},
   "outputs": [
    {
     "name": "stdout",
     "output_type": "stream",
     "text": [
      "1\n",
      "3\n",
      "5\n",
      "7\n",
      "9\n"
     ]
    }
   ],
   "source": [
    "for x in range(1,10,2):\n",
    "    print(x)"
   ]
  },
  {
   "cell_type": "code",
   "execution_count": 33,
   "metadata": {},
   "outputs": [
    {
     "name": "stdout",
     "output_type": "stream",
     "text": [
      "0\n",
      "1\n",
      "2\n",
      "3\n",
      "4\n"
     ]
    }
   ],
   "source": [
    "#BREAK\n",
    "#donguyu sonlandırır\n",
    "\n",
    "#CONTINUE\n",
    "#dongunun sonraki adımına gecer\n",
    "\n",
    "i = 0\n",
    "while i < 10:\n",
    "    if(i == 5):\n",
    "        break\n",
    "    else:\n",
    "        print(i)\n",
    "    i += 1\n",
    "    "
   ]
  },
  {
   "cell_type": "code",
   "execution_count": 34,
   "metadata": {},
   "outputs": [
    {
     "name": "stdout",
     "output_type": "stream",
     "text": [
      "uygulamadan cıkmak icin q tusuna basınız\n",
      "yasınız:  5\n",
      "uygulamadan cıkmak icin q tusuna basınız\n",
      "yasınız:  3\n",
      "uygulamadan cıkmak icin q tusuna basınız\n"
     ]
    }
   ],
   "source": [
    "while True:\n",
    "    print(\"uygulamadan cıkmak icin q tusuna basınız\")\n",
    "    yas = input(\"yas: \")\n",
    "    if(yas == \"q\"):\n",
    "        break\n",
    "    else:\n",
    "        print(\"yasınız: \", yas)\n",
    "        "
   ]
  },
  {
   "cell_type": "code",
   "execution_count": 35,
   "metadata": {},
   "outputs": [
    {
     "name": "stdout",
     "output_type": "stream",
     "text": [
      "0\n",
      "1\n",
      "2\n",
      "3\n",
      "4\n",
      "6\n"
     ]
    }
   ],
   "source": [
    "for i in range(7):\n",
    "    if i ==5:\n",
    "        continue\n",
    "    print(i)"
   ]
  },
  {
   "cell_type": "code",
   "execution_count": null,
   "metadata": {},
   "outputs": [],
   "source": []
  }
 ],
 "metadata": {
  "kernelspec": {
   "display_name": "Python 3",
   "language": "python",
   "name": "python3"
  },
  "language_info": {
   "codemirror_mode": {
    "name": "ipython",
    "version": 3
   },
   "file_extension": ".py",
   "mimetype": "text/x-python",
   "name": "python",
   "nbconvert_exporter": "python",
   "pygments_lexer": "ipython3",
   "version": "3.13.2"
  }
 },
 "nbformat": 4,
 "nbformat_minor": 2
}
