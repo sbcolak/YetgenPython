{
 "cells": [
  {
   "cell_type": "markdown",
   "metadata": {
    "id": "-My6RWLrhXIq"
   },
   "source": [
    "# Problem 1\n",
    "Sözlükleri kullanarak bir telefon rehberi yazın. Bu rehberde kullanıcıya kimin telefonunu görüntülemek istediğini sorun ve kullanıcının girdiği isme göre o kişinin telefon numarasını yazdırın. Proje sonunda elde edeceğiniz çıktı  şuna benzer olmalı:\n",
    "\n",
    "\n",
    "Lütfen numarasını öğrenmek istediğiniz kişinin adını girin: Ahmet\n",
    "\n",
    "Ahmet isimli kişinin numarası şu şekildedir: 0532 678 13 19"
   ]
  },
  {
   "cell_type": "code",
   "execution_count": 5,
   "metadata": {
    "id": "LHIQEhchhXIu"
   },
   "outputs": [
    {
     "name": "stdout",
     "output_type": "stream",
     "text": [
      "sena isimli kişinin numarası: 053293739\n"
     ]
    }
   ],
   "source": [
    "# 1.Problemin Çözümünü Buraya Yazınız\n",
    "\n",
    "dict_telNo = {\"sena\": \"053293739\", \"buse\" : \"053339238\", \"ahmet\": \"3873293944\"}\n",
    "\n",
    "isim = input(\"numarasını öğrenmek istediginiz kisinin adını girin :\")\n",
    "tel = dict_telNo[isim] \n",
    "print(f\"{isim} isimli kişinin numarası: {tel}\")\n",
    "\n"
   ]
  },
  {
   "cell_type": "markdown",
   "metadata": {
    "id": "rlgfjEi7hXIv"
   },
   "source": [
    "# Problem 2\n",
    "Sözlükleri kullanarak bir şirket çalışanları indeksi oluşturun. Bu isim indeksinde kişilerin isimleri key, kişilerin  memleket, yaş ve görev bilgileri value olmalıdır. Burada kullanacağımız value değerleri liste olmalıdır.\n",
    "\n",
    "\n",
    "Daha sonra bir isim sorgulama ekranı gibi kullanıcıya kimin bilgilerini görüntülemek istediğini \n",
    "sorun ve sorgulanan kişinin ekranda gösterilmesini sağlayın. Proje sonunda elde edeceğiniz çıktı şu şekilde olmalı:\n",
    "\n",
    "\n",
    "Lütfen bilgilerini görüntülemek istediğiniz çalışanın ismini girin: Mehmet Yağız\n",
    "\n",
    "Mehmet Yağız= Memleket: Adana Yaş: 40 Görev: Direktör"
   ]
  },
  {
   "cell_type": "code",
   "execution_count": 6,
   "metadata": {
    "id": "O09zrrs0hXIv"
   },
   "outputs": [
    {
     "name": "stdout",
     "output_type": "stream",
     "text": [
      "sena buse = Memleket: İstanbul, Yaş: 25, Görev: yazılımcı\n"
     ]
    }
   ],
   "source": [
    "# 2.Problemin Çözümünü Buraya Yazınız\n",
    "\n",
    "calisanlar = {\n",
    "    \"Mehmet Yağız\": [\"Adana\", 40, \"Direktör\"],\n",
    "    \"sena buse\": [\"İstanbul\", 25, \"yazılımcı\"],\n",
    "    \"Ahmet Yıldız\": [\"Ankara\", 20, \"öğrenci\"]\n",
    "}\n",
    "\n",
    "isim = input(\"Lütfen bilgilerini görüntülemek istediğiniz çalışanın ismini girin: \")\n",
    "\n",
    "memleket, yas, gorev = calisanlar[isim]\n",
    "print(f\"{isim} = Memleket: {memleket}, Yaş: {yas}, Görev: {gorev}\")\n"
   ]
  },
  {
   "cell_type": "code",
   "execution_count": null,
   "metadata": {},
   "outputs": [],
   "source": []
  },
  {
   "cell_type": "markdown",
   "metadata": {
    "id": "G67ztXG-hXIw"
   },
   "source": [
    "# Problem 3\n",
    "\n",
    "3 öğrenciden oluşan bir öğrenci not sözlüğü oluşturun. Bu sözlükte öğrencilerin notları value olarak bir listede toplansın.\n",
    "\n",
    "Kullanıcıya hangi öğrencinin notlarını görmek istediğini sorun. Öğrencinin notu görüntülendiğinde program sonunda şöyle bir çıktı elde etmelisiniz:\n",
    "\n",
    "```\n",
    "Lütfen notlarını görmek istediğiniz öğrencinin adını girin: Mehmet\n",
    "\n",
    "Mehmet isimli öğrencinin      1.Sınav Notu:72\n",
    "                              2.Sınav Notu:66\n",
    "                              3.Sınav Notu:48\n",
    "Not Ortalaması: 62.0\n"
   ]
  },
  {
   "cell_type": "code",
   "execution_count": 8,
   "metadata": {
    "id": "TXQ_fuCHhXIw"
   },
   "outputs": [
    {
     "name": "stdout",
     "output_type": "stream",
     "text": [
      "sena isimli öğrencinin\n",
      "1. Sınav Notu: 39\n",
      "2. Sınav Notu: 87\n",
      "3. Sınav Notu: 34\n"
     ]
    }
   ],
   "source": [
    "# 3.Problemin Çözümünü Buraya Yazınız\n",
    "\n",
    "ogrenciler = {\n",
    "    \"Mehmet\": [72, 66, 48],\n",
    "    \"sena\": [39, 87, 34],\n",
    "    \"buse\": [92, 95, 86]\n",
    "}\n",
    "\n",
    "isim = input(\"notlarını görmek istediğiniz öğrencinin adını girin: \")\n",
    "\n",
    "notlar = ogrenciler[isim]\n",
    "ortalama = sum(notlar) / len(notlar)\n",
    "print(f\"{isim} isimli öğrencinin\")\n",
    "    \n",
    "counter = 1\n",
    "for notu in notlar:\n",
    "    print(f\"{counter}. Sınav Notu: {notu}\")\n",
    "    counter += 1"
   ]
  },
  {
   "cell_type": "markdown",
   "metadata": {
    "id": "oel6A5WFhXIw"
   },
   "source": [
    "# Problem 4"
   ]
  },
  {
   "cell_type": "code",
   "execution_count": 3,
   "metadata": {
    "id": "jVRdspCrhXIx"
   },
   "outputs": [
    {
     "name": "stdout",
     "output_type": "stream",
     "text": [
      "eleman sayısı: 4\n",
      "ilk eleman:  Bmw\n",
      "son eleman: Mazda\n",
      "Opel\n",
      "['Bmw', 'Mercedes', 'Opel']\n",
      "['Yiğit Bilgi 2010, (70,60,70)', 'Sena Turan  1999, (80,80,70)', 'Ahmet Turan 1998, (80,70,90)']\n",
      "1\n",
      "['Cenk', 'Hakan', 'Yağmur', 'Ali', 'Sena']\n",
      "['Ali', 'Cenk', 'Hakan', 'Sena', 'Yağmur']\n",
      "[1987, 1998, 1998, 2000]\n",
      "Chevrolet,Dacia\n",
      "['a', 'b', 'c']\n"
     ]
    }
   ],
   "source": [
    "# 1-  \"Bmw, Mercedes, Opel, Mazda\" elemanlarına sahip bir liste oluşturunuz.\n",
    "marka = [\"Bmw\", \"Mercedes\", \"Opel\", \"Mazda\"]\n",
    "# 2-  Liste Kaç elemanlıdır ?\n",
    "print(\"eleman sayısı:\" , len(marka))\n",
    "# 3-  Listenin ilk ve son elemanı nedir ?\n",
    "print(\"ilk eleman: \", marka[0])\n",
    "print(\"son eleman:\", marka[len(marka)-1])\n",
    "# 4-  Mazda değerini Toyota ile değiştirin.\n",
    "marka[3]=\"toyota\"\n",
    "# 5-  Listenin -2 indeksindeki değer nedir ?\n",
    "print(marka[-2])\n",
    "# 6-  Listenin ilk 3 elemanını alın.\n",
    "print(marka[0:3])\n",
    "# 7-  Listenin son 2 elemanı yerine \"Toyota\" ve \"Renault\" değerlerini ekleyin.\n",
    "marka[2]=\"Toyota\"\n",
    "marka[3]=\"Renault\"\n",
    "\n",
    "# 8-  Listenin üzerine \"Audi\" ve \"Nissan\" değerlerini ekleyin.\n",
    "marka.append(\"Audi\")\n",
    "marka.append(\"Nissan\")\n",
    "\n",
    "# 9- Listenin son elemanını silin.\n",
    "marka.pop()\n",
    "# 10- Liste elemanlarını tersten yazdırınız.\n",
    "marka.reverse()\n",
    "# 11- Aşağıdaki verileri bir liste içinde saklayınız. \n",
    "\n",
    "      # studentA: Yiğit Bilgi 2010, (70,60,70)\n",
    "      # studentB: Sena Turan  1999, (80,80,70)\n",
    "      # studentC: Ahmet Turan 1998, (80,70,90) \n",
    "\n",
    "students = [\"Yiğit Bilgi 2010, (70,60,70)\",\"Sena Turan  1999, (80,80,70)\",\"Ahmet Turan 1998, (80,70,90)\"]\n",
    "\n",
    "# 12- Liste elemanlarını ekrana yazdırınız.\n",
    "\n",
    "print(students)\n",
    "\n",
    "  \n",
    "names = ['Ali','Yağmur','Hakan','Deniz']\n",
    "years = [1998, 2000, 1998, 1987]\n",
    "\n",
    "# 13-  \"Cenk\" ismini listenin sonuna ekleyiniz.\n",
    "names.append(\"Cenk\")\n",
    "\n",
    "# 14-  \"Sena\" değerini listenin başına ekleyiniz.\n",
    "names.insert(0,\"Sena\")\n",
    "\n",
    "# 15-  \"Deniz\" ismini listeden siliniz.\n",
    "names.remove(\"Deniz\")\n",
    "\n",
    "# 16-  \"Ali\" listenin bir elemanı mıdır ?\n",
    "print(names.index(\"Ali\"))\n",
    "# 17-  Liste elemanlarını ters çevirin.\n",
    "names.reverse()\n",
    "print(names)\n",
    "# 18-  Liste elemanlarını alfabetik olarak sıralayınız.\n",
    "names.sort()\n",
    "print(names)\n",
    "\n",
    "# 19-  years listesini rakamsal büyüklüğe göre sıralayınız.\n",
    "years.sort()\n",
    "print(years)\n",
    "# 20-  str = \"Chevrolet,Dacia\" karakter dizisini listeye çeviriniz.\n",
    "str = \"Chevrolet,Dacia\"\n",
    "str.split(\",\")\n",
    "print(str)\n",
    "\n",
    "# 21- years dizisinde kaç tane 1998 değeri vardır ?\n",
    "\n",
    "\n",
    "# 22- years dizisinin tüm elemanlarını siliniz.\n",
    "years.clear()\n",
    "\n",
    "# 23- Kullanıcıdan alacağınız 3 tane marka bilgisini bir listede saklayınız.\n",
    "\n",
    "list_marka = []\n",
    "x = 0\n",
    "while x < 3:\n",
    "    marka = input(\"marka giriniz: \")\n",
    "    list_marka.append(marka)\n",
    "    x +=1\n",
    "print(list_marka)\n",
    "\n"
   ]
  }
 ],
 "metadata": {
  "colab": {
   "provenance": []
  },
  "kernelspec": {
   "display_name": "Python 3",
   "language": "python",
   "name": "python3"
  },
  "language_info": {
   "codemirror_mode": {
    "name": "ipython",
    "version": 3
   },
   "file_extension": ".py",
   "mimetype": "text/x-python",
   "name": "python",
   "nbconvert_exporter": "python",
   "pygments_lexer": "ipython3",
   "version": "3.13.2"
  },
  "orig_nbformat": 4
 },
 "nbformat": 4,
 "nbformat_minor": 0
}
