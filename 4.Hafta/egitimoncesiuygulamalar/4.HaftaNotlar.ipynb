{
 "cells": [
  {
   "cell_type": "code",
   "execution_count": 1,
   "metadata": {},
   "outputs": [
    {
     "name": "stdout",
     "output_type": "stream",
     "text": [
      "sena\n"
     ]
    }
   ],
   "source": [
    "#LİSTELER\n",
    "#[] icerisinde tutulurlar.\n",
    "#indexleme, veri güncelleme silme, veri ekleme islemleri yapılabilir\n",
    "#iç içe listeleme islemi yapılabilir.\n",
    "\n",
    "liderler=[\"sena\", \"buse\",\"berkcan\"]\n",
    "print(liderler[0])\n",
    "\n"
   ]
  },
  {
   "cell_type": "code",
   "execution_count": 3,
   "metadata": {},
   "outputs": [
    {
     "name": "stdout",
     "output_type": "stream",
     "text": [
      "['sena', 'buse', 'berkcan', 'emirhan', 'emirhan']\n"
     ]
    }
   ],
   "source": [
    "#LİSTE METODLARI\n",
    "\n",
    "#append(): listenin sonuna eleman ekler\n",
    "#remove(): listeden eleman siler\n",
    "\n",
    "liderler.append(\"emirhan\")\n",
    "print(liderler)"
   ]
  },
  {
   "cell_type": "code",
   "execution_count": 4,
   "metadata": {},
   "outputs": [
    {
     "name": "stdout",
     "output_type": "stream",
     "text": [
      "['sena', 'buse', 'emirhan', 'emirhan']\n"
     ]
    }
   ],
   "source": [
    "liderler.remove(\"berkcan\")\n",
    "print(liderler)"
   ]
  },
  {
   "cell_type": "code",
   "execution_count": 5,
   "metadata": {},
   "outputs": [
    {
     "name": "stdout",
     "output_type": "stream",
     "text": [
      "4\n"
     ]
    }
   ],
   "source": [
    "#len(): listenin uzunlugunu verir\n",
    "print(len(liderler))"
   ]
  },
  {
   "cell_type": "code",
   "execution_count": 6,
   "metadata": {},
   "outputs": [
    {
     "name": "stdout",
     "output_type": "stream",
     "text": [
      "['sena', 'buse', 'berkcan', 'emirhan']\n"
     ]
    }
   ],
   "source": [
    "liderler[2] = \"berkcan\" #liderler listesinin 3. elamanını berkcan yapar\n",
    "print(liderler)"
   ]
  },
  {
   "cell_type": "code",
   "execution_count": null,
   "metadata": {},
   "outputs": [],
   "source": [
    "liderler.clear() #tüm listeyi temizler"
   ]
  },
  {
   "cell_type": "code",
   "execution_count": null,
   "metadata": {},
   "outputs": [],
   "source": [
    "#index():\n",
    "#listedeki elemanın indexini verir.\n",
    "#aranan veriyi ilk buldugunda durur\n",
    "#veri bulunamazsa ValueError verir."
   ]
  },
  {
   "cell_type": "code",
   "execution_count": 8,
   "metadata": {},
   "outputs": [
    {
     "name": "stdout",
     "output_type": "stream",
     "text": [
      "['ankara', 'istanbul', 'izmir']\n",
      "ankaranın indexi: 0\n"
     ]
    }
   ],
   "source": [
    "sehirler = list((\"ankara\",\"istanbul\",\"izmir\"))\n",
    "print(sehirler)\n",
    "\n",
    "print(\"ankaranın indexi:\" , sehirler.index(\"ankara\"))"
   ]
  },
  {
   "cell_type": "code",
   "execution_count": 10,
   "metadata": {},
   "outputs": [
    {
     "data": {
      "text/plain": [
       "'ankara'"
      ]
     },
     "execution_count": 10,
     "metadata": {},
     "output_type": "execute_result"
    }
   ],
   "source": [
    "#pop():\n",
    "#listedeki elemanı siler.\n",
    "#index girilmezse son elemanı siler.\n",
    "sehirler.pop(0)"
   ]
  },
  {
   "cell_type": "code",
   "execution_count": 11,
   "metadata": {},
   "outputs": [
    {
     "name": "stdout",
     "output_type": "stream",
     "text": [
      "['adana', 'ankara', 'istanbul', 'izmir']\n"
     ]
    }
   ],
   "source": [
    "#insert():\n",
    "#istenilen indexe eleman ekler\n",
    "sehirler.insert(0,\"adana\")\n",
    "sehirler.insert(1,\"ankara\")\n",
    "print(sehirler)"
   ]
  },
  {
   "cell_type": "code",
   "execution_count": 12,
   "metadata": {},
   "outputs": [
    {
     "name": "stdout",
     "output_type": "stream",
     "text": [
      "['izmir', 'istanbul', 'ankara', 'adana']\n"
     ]
    }
   ],
   "source": [
    "#reverse():\n",
    "#listeyi terse cevirir\n",
    "sehirler.reverse()\n",
    "print(sehirler)"
   ]
  },
  {
   "cell_type": "code",
   "execution_count": null,
   "metadata": {},
   "outputs": [],
   "source": [
    "#sort():\n",
    "#listeyi kücükten büyüge sıralar\n",
    "sehirler.sort()\n",
    "print(sehirler)\n"
   ]
  },
  {
   "cell_type": "code",
   "execution_count": 13,
   "metadata": {},
   "outputs": [
    {
     "name": "stdout",
     "output_type": "stream",
     "text": [
      "['berkcan', 'ahmet', 'sena', 'buse']\n"
     ]
    }
   ],
   "source": [
    "#LİSTE TOPLAMA\n",
    "\n",
    "liste1 = [\"berkcan\",\"ahmet\"]\n",
    "liste2 = [\"sena\", \"buse\"]\n",
    "print(liste1 + liste2) "
   ]
  },
  {
   "cell_type": "code",
   "execution_count": null,
   "metadata": {},
   "outputs": [],
   "source": [
    "#TUPLE(DEMET)\n",
    "#() içerisinde tutulurlar\n",
    "#tuple elemanları degistirilemez, liste elemanları degistirilebilir.\n",
    "#iç içe tuple olusturulabilir\n",
    "#liste içerisine tuple, tuple içerisinde liste tanımlanabilir.\n",
    "#bir kez tanımlandıktan sonra degistirilmezler, yalnızca okunurlar.\n"
   ]
  },
  {
   "cell_type": "code",
   "execution_count": 14,
   "metadata": {},
   "outputs": [
    {
     "name": "stdout",
     "output_type": "stream",
     "text": [
      "<class 'tuple'>\n"
     ]
    }
   ],
   "source": [
    "tupleList = (2,4,6,\"ankara\",[2,4,6])\n",
    "print(type(tupleList))"
   ]
  },
  {
   "cell_type": "code",
   "execution_count": 16,
   "metadata": {},
   "outputs": [
    {
     "name": "stdout",
     "output_type": "stream",
     "text": [
      "(2, 4, 6, 'ankara', [2, 4, 6])\n",
      "5\n"
     ]
    }
   ],
   "source": [
    "print(tupleList)\n",
    "print(len(tupleList))"
   ]
  },
  {
   "cell_type": "code",
   "execution_count": 17,
   "metadata": {},
   "outputs": [
    {
     "ename": "TypeError",
     "evalue": "'tuple' object does not support item assignment",
     "output_type": "error",
     "traceback": [
      "\u001b[31m---------------------------------------------------------------------------\u001b[39m",
      "\u001b[31mTypeError\u001b[39m                                 Traceback (most recent call last)",
      "\u001b[36mCell\u001b[39m\u001b[36m \u001b[39m\u001b[32mIn[17]\u001b[39m\u001b[32m, line 1\u001b[39m\n\u001b[32m----> \u001b[39m\u001b[32m1\u001b[39m \u001b[43mtupleList\u001b[49m\u001b[43m[\u001b[49m\u001b[32;43m0\u001b[39;49m\u001b[43m]\u001b[49m=\u001b[32m5\u001b[39m\n\u001b[32m      2\u001b[39m \u001b[38;5;28mprint\u001b[39m(tupleList)\n",
      "\u001b[31mTypeError\u001b[39m: 'tuple' object does not support item assignment"
     ]
    }
   ],
   "source": [
    "tupleList[0]=5\n",
    "print(tupleList)"
   ]
  },
  {
   "cell_type": "code",
   "execution_count": null,
   "metadata": {},
   "outputs": [],
   "source": [
    "#SET\n",
    "#{} içerisinde tutulurlar\n",
    "#indexsiz ve sırasız elemanlardan olusur\n",
    "#veri tekrarı yoktur, tüm verileri essizdir"
   ]
  },
  {
   "cell_type": "code",
   "execution_count": 18,
   "metadata": {},
   "outputs": [
    {
     "name": "stdout",
     "output_type": "stream",
     "text": [
      "{'ahmet', 'berkcan'}\n",
      "<class 'set'>\n"
     ]
    }
   ],
   "source": [
    "liderler = {\"berkcan\",\"ahmet\"}\n",
    "print(liderler)\n",
    "print(type(liderler))"
   ]
  },
  {
   "cell_type": "code",
   "execution_count": 19,
   "metadata": {},
   "outputs": [
    {
     "ename": "TypeError",
     "evalue": "'set' object is not subscriptable",
     "output_type": "error",
     "traceback": [
      "\u001b[31m---------------------------------------------------------------------------\u001b[39m",
      "\u001b[31mTypeError\u001b[39m                                 Traceback (most recent call last)",
      "\u001b[36mCell\u001b[39m\u001b[36m \u001b[39m\u001b[32mIn[19]\u001b[39m\u001b[32m, line 1\u001b[39m\n\u001b[32m----> \u001b[39m\u001b[32m1\u001b[39m \u001b[38;5;28mprint\u001b[39m(\u001b[43mliderler\u001b[49m\u001b[43m[\u001b[49m\u001b[32;43m0\u001b[39;49m\u001b[43m]\u001b[49m)\n",
      "\u001b[31mTypeError\u001b[39m: 'set' object is not subscriptable"
     ]
    }
   ],
   "source": [
    "print(liderler[0])"
   ]
  },
  {
   "cell_type": "code",
   "execution_count": 20,
   "metadata": {},
   "outputs": [
    {
     "name": "stdout",
     "output_type": "stream",
     "text": [
      "ahmet\n",
      "berkcan\n"
     ]
    }
   ],
   "source": [
    "for i in liderler:\n",
    "    print(i)"
   ]
  },
  {
   "cell_type": "code",
   "execution_count": 21,
   "metadata": {},
   "outputs": [
    {
     "name": "stdout",
     "output_type": "stream",
     "text": [
      "True\n"
     ]
    }
   ],
   "source": [
    "print(\"berkcan\" in liderler)"
   ]
  },
  {
   "cell_type": "code",
   "execution_count": null,
   "metadata": {},
   "outputs": [],
   "source": [
    "#SET METODLARI\n",
    "\n",
    "#add(): eleman ekler\n",
    "#remove(): eleman siler\n",
    "#clear(): tüm elemanları siler\n",
    "#pop(): son elemanı siler - indexsiz oldugu icin sondaki degil en son eklenen elemanı siler.\n",
    "#update(): eleman ekler\n",
    "#union(): iki seti birlestirir\n",
    "#intersection(): iki setin kesişimini alır\n",
    "#difference(): iki setin farkını alır\n"
   ]
  },
  {
   "cell_type": "code",
   "execution_count": null,
   "metadata": {},
   "outputs": [],
   "source": [
    "#DICTIONARY\n",
    "\n",
    "#{} içerisinde tutulurlar\n",
    "# sırasız veri tutar\n",
    "#key: anahtar - bir bilgiye ulasmak icin kullanılır\n",
    "#value: değer \n",
    "#key - value için örnek : {06: \"ankara\"} 06 key, ankara value\n",
    "#dict(\"\") seklinde de tanımlanabilir\n"
   ]
  },
  {
   "cell_type": "code",
   "execution_count": 22,
   "metadata": {},
   "outputs": [
    {
     "name": "stdout",
     "output_type": "stream",
     "text": [
      "{'book': 'kitap', 'table': 'masa'}\n",
      "<class 'dict'>\n"
     ]
    }
   ],
   "source": [
    "sozluk = {\"book\" : \"kitap\",\"table\" : \"masa\"}\n",
    "print(sozluk)\n",
    "print(type(sozluk))\n"
   ]
  },
  {
   "cell_type": "code",
   "execution_count": 23,
   "metadata": {},
   "outputs": [
    {
     "name": "stdout",
     "output_type": "stream",
     "text": [
      "masa\n"
     ]
    }
   ],
   "source": [
    "print(sozluk[\"table\"])"
   ]
  },
  {
   "cell_type": "code",
   "execution_count": 25,
   "metadata": {},
   "outputs": [
    {
     "name": "stdout",
     "output_type": "stream",
     "text": [
      "{'book': 'kitap', 'table': 'masa', 'pencil': 'kalem'}\n"
     ]
    }
   ],
   "source": [
    "#VERİ EKLEME\n",
    "sozluk[\"pencil\"] = \"kalem\"\n",
    "print(sozluk)"
   ]
  },
  {
   "cell_type": "code",
   "execution_count": 26,
   "metadata": {},
   "outputs": [
    {
     "name": "stdout",
     "output_type": "stream",
     "text": [
      "{'book': 'kitaplar', 'table': 'masa', 'pencil': 'kalem'}\n"
     ]
    }
   ],
   "source": [
    "#VERİ GÜNCELLEME\n",
    "sozluk[\"book\"] = \"kitaplar\"\n",
    "print(sozluk)"
   ]
  },
  {
   "cell_type": "code",
   "execution_count": 27,
   "metadata": {},
   "outputs": [
    {
     "name": "stdout",
     "output_type": "stream",
     "text": [
      "{'book': 'kitaplar', 'table': 'masa'}\n"
     ]
    }
   ],
   "source": [
    "#VERİ SİLME\n",
    "del(sozluk[\"pencil\"]) \n",
    "print(sozluk)"
   ]
  },
  {
   "cell_type": "code",
   "execution_count": 28,
   "metadata": {},
   "outputs": [
    {
     "name": "stdout",
     "output_type": "stream",
     "text": [
      "{'book': 'kitaplar', 'table': 'masa'}\n"
     ]
    }
   ],
   "source": [
    "#VALUE'NUN SOZLUK OLMASI\n",
    "sozlukValue = {1: {\"tl\": \"türkiye\"}}\n",
    "print(sozluk)\n"
   ]
  },
  {
   "cell_type": "code",
   "execution_count": null,
   "metadata": {},
   "outputs": [],
   "source": [
    "#SÖZLÜK METODLARI\n",
    "#keys(): sozlukteki tüm keyleri verir\n",
    "#values(): sozlukteki tüm valueleri verir.\n",
    "#items(): sozlukteki tüm key ve value degerlerini verir.\n"
   ]
  },
  {
   "cell_type": "code",
   "execution_count": 29,
   "metadata": {},
   "outputs": [
    {
     "name": "stdout",
     "output_type": "stream",
     "text": [
      "tge\n"
     ]
    }
   ],
   "source": [
    "#STRING PARCALAMA\n",
    "\n",
    "x = \"yetgen\"\n",
    "print(x[2:5])"
   ]
  },
  {
   "cell_type": "code",
   "execution_count": 30,
   "metadata": {},
   "outputs": [
    {
     "name": "stdout",
     "output_type": "stream",
     "text": [
      "tgen\n",
      "ye\n"
     ]
    }
   ],
   "source": [
    "print(x[2:])\n",
    "print(x[:2])"
   ]
  },
  {
   "cell_type": "code",
   "execution_count": 32,
   "metadata": {},
   "outputs": [
    {
     "name": "stdout",
     "output_type": "stream",
     "text": [
      "['berkcan', 'gümüssıık', '23', 'ankara']\n"
     ]
    }
   ],
   "source": [
    "#STRING METODLARI\n",
    "#len(): uzunlugunu verir.\n",
    "#upper(): tüm harfleri büyük yapar\n",
    "#lower(): tüm harfleri kücük yapar\n",
    "#capitalize(): ilk harfini büyük harfe cevirir\n",
    "#swapcase(): büyükleri kücük, kücükleri büyük harf yapar\n",
    "#replace(): icerisindeki veriyi degistirir\n",
    "x.replace(\"e\",\"a\")\n",
    "#split(): stringi parcalar\n",
    "bilgi = \"berkcan gümüssıık 23 ankara\"\n",
    "print(bilgi.split(\" \"))\n",
    "#strip(): stringin basını ve sonunu trimler\n"
   ]
  },
  {
   "cell_type": "code",
   "execution_count": 33,
   "metadata": {},
   "outputs": [
    {
     "name": "stdout",
     "output_type": "stream",
     "text": [
      "True\n"
     ]
    }
   ],
   "source": [
    "#startwith(): belirtilen karakterle baslayip baslamadigini kontrol eder\n",
    "#endswith(): belirtilen karakterle bitip bitmedigini kontrol eder\n",
    "#find(): verinin indexini verir. yoksa -1 döndürür\n",
    "#index(): verinin indexini verir. yoksa ValueError verir.\n",
    "#isalpha(): tüm karakterlerinin alfabetik/string olup olmadıgını kontrol eder\n",
    "#isdigit(): tüm karakterlerin rakam olup olmadıgını kontrol eder\n",
    "\n",
    "print(\"abc\".isalpha())\n"
   ]
  },
  {
   "cell_type": "code",
   "execution_count": null,
   "metadata": {},
   "outputs": [],
   "source": []
  },
  {
   "cell_type": "code",
   "execution_count": null,
   "metadata": {},
   "outputs": [],
   "source": []
  },
  {
   "cell_type": "code",
   "execution_count": null,
   "metadata": {},
   "outputs": [],
   "source": []
  }
 ],
 "metadata": {
  "kernelspec": {
   "display_name": "Python 3",
   "language": "python",
   "name": "python3"
  },
  "language_info": {
   "codemirror_mode": {
    "name": "ipython",
    "version": 3
   },
   "file_extension": ".py",
   "mimetype": "text/x-python",
   "name": "python",
   "nbconvert_exporter": "python",
   "pygments_lexer": "ipython3",
   "version": "3.13.2"
  }
 },
 "nbformat": 4,
 "nbformat_minor": 2
}
