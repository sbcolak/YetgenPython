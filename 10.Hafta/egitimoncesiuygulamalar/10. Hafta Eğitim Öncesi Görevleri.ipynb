{
 "cells": [
  {
   "attachments": {},
   "cell_type": "markdown",
   "metadata": {},
   "source": [
    "# Problem 1"
   ]
  },
  {
   "cell_type": "code",
   "execution_count": 3,
   "metadata": {},
   "outputs": [
    {
     "name": "stdout",
     "output_type": "stream",
     "text": [
      "Matris: [6 6 5 6 7]\n",
      "Boyut (shape): (5,)\n",
      "Yeniden boyutlandırılmış matris: [[6 6 5 6 7]]\n",
      "Boyut sayısı: 2\n"
     ]
    }
   ],
   "source": [
    "# 1 - numpy kütüphanesini import edin\n",
    "import numpy as np\n",
    "\n",
    "# 2 - 0 ile 10 arasında 5 sayıdan oluşan matris üretin\n",
    "matris = np.random.randint(0, 10, size=(5,))\n",
    "print(\"Matris:\", matris)\n",
    "\n",
    "# 3 - matris'in boyutunu öğrenin\n",
    "print(\"Boyut (shape):\", matris.shape)\n",
    "\n",
    "# 4 - matris'i yeniden boyutlandırın (örneğin 5 elemanı 1x5 matris yapalım)\n",
    "matris_reshape = matris.reshape((1, 5))\n",
    "print(\"Yeniden boyutlandırılmış matris:\", matris_reshape)\n",
    "\n",
    "# 5 - matris'in boyut sayısını öğrenin (kaç boyutlu olduğunu gösterir)\n",
    "print(\"Boyut sayısı:\", matris_reshape.ndim)\n"
   ]
  },
  {
   "cell_type": "code",
   "execution_count": null,
   "metadata": {},
   "outputs": [],
   "source": []
  },
  {
   "attachments": {},
   "cell_type": "markdown",
   "metadata": {},
   "source": [
    "# Problem 2"
   ]
  },
  {
   "cell_type": "code",
   "execution_count": 1,
   "metadata": {},
   "outputs": [
    {
     "name": "stdout",
     "output_type": "stream",
     "text": [
      "Tek sayılardan oluşan matris: [1 3 5 7 9]\n",
      "Parça 1: [1 3 5]\n",
      "Parça 2: [7 9]\n",
      "Birleştirilmiş matris: [1 3 5 7 9]\n"
     ]
    }
   ],
   "source": [
    "import numpy as np\n",
    "\n",
    "# 1 - 0 ile 10 arasında bulunan tek sayılardan oluşan matris üretin\n",
    "tek_sayilar = np.arange(1, 10, 2)  \n",
    "print(\"Tek sayılardan oluşan matris:\", tek_sayilar)\n",
    "\n",
    "# 2 - Oluşturduğunuz matrisi parçalayın\n",
    "parca1, parca2 = np.array_split(tek_sayilar, 2)\n",
    "print(\"Parça 1:\", parca1)\n",
    "print(\"Parça 2:\", parca2)\n",
    "\n",
    "# 3 - Parçalanmış matrisleri birleştirin\n",
    "birlesik_matris = np.concatenate((parca1, parca2))\n",
    "print(\"Birleştirilmiş matris:\", birlesik_matris)\n"
   ]
  },
  {
   "cell_type": "code",
   "execution_count": null,
   "metadata": {},
   "outputs": [],
   "source": []
  },
  {
   "attachments": {},
   "cell_type": "markdown",
   "metadata": {},
   "source": [
    "# Problem 3"
   ]
  },
  {
   "cell_type": "code",
   "execution_count": 2,
   "metadata": {},
   "outputs": [
    {
     "name": "stdout",
     "output_type": "stream",
     "text": [
      "Matris: [63 91 79 71 27 77 85 89 67 37]\n",
      "Şekil (shape): (10,)\n",
      "Boyut sayısı : 1\n",
      "Eleman sayısı : 10\n",
      "Veri tipi : int64\n",
      "Minimum: 27\n",
      "Maksimum: 91\n",
      "Ortalama: 68.6\n"
     ]
    }
   ],
   "source": [
    "import numpy as np\n",
    "\n",
    "# 1 - 5 ile 100 arasında ikişer ikişer atlayarak rastgele 10 sayıdan oluşan matris üretin\n",
    "sayilar_araligi = np.arange(5, 101, 2)  \n",
    "matris = np.random.choice(sayilar_araligi, size=10, replace=False)  \n",
    "print(\"Matris:\", matris)\n",
    "\n",
    "# 2 - matris'in özelliklerini inceleyin\n",
    "print(\"Şekil (shape):\", matris.shape)\n",
    "print(\"Boyut sayısı :\", matris.ndim)\n",
    "print(\"Eleman sayısı :\", matris.size)\n",
    "print(\"Veri tipi :\", matris.dtype)\n",
    "print(\"Minimum:\", matris.min())\n",
    "print(\"Maksimum:\", matris.max())\n",
    "print(\"Ortalama:\", matris.mean())\n"
   ]
  },
  {
   "cell_type": "code",
   "execution_count": null,
   "metadata": {},
   "outputs": [],
   "source": []
  }
 ],
 "metadata": {
  "kernelspec": {
   "display_name": "Python 3",
   "language": "python",
   "name": "python3"
  },
  "language_info": {
   "codemirror_mode": {
    "name": "ipython",
    "version": 3
   },
   "file_extension": ".py",
   "mimetype": "text/x-python",
   "name": "python",
   "nbconvert_exporter": "python",
   "pygments_lexer": "ipython3",
   "version": "3.13.2"
  },
  "orig_nbformat": 4,
  "vscode": {
   "interpreter": {
    "hash": "5026d2d6e7aaaaba093def813beadff083d8733e4a511af01735cbabd156995d"
   }
  }
 },
 "nbformat": 4,
 "nbformat_minor": 2
}
