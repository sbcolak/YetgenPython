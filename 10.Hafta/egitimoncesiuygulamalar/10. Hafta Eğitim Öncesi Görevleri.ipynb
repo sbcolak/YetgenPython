{
 "cells": [
  {
   "attachments": {},
   "cell_type": "markdown",
   "metadata": {},
   "source": [
    "# Problem 1"
   ]
  },
  {
   "cell_type": "code",
   "execution_count": null,
   "metadata": {},
   "outputs": [],
   "source": [
    "# 1 - numpy kütüphanesini import edin\n",
    "import numpy as np\n",
    "\n",
    "# 2 - 0 ile 10 arasında 5 sayıdan oluşan matris üretin\n",
    "matris = np.random.randint(0, 10, size=(5,))\n",
    "print(\"Matris:\", matris)\n",
    "\n",
    "# 3 - matris'in boyutunu öğrenin\n",
    "print(\"Boyut (shape):\", matris.shape)\n",
    "\n",
    "# 4 - matris'i yeniden boyutlandırın (örneğin 5 elemanı 1x5 matris yapalım)\n",
    "matris_reshape = matris.reshape((1, 5))\n",
    "print(\"Yeniden boyutlandırılmış matris:\", matris_reshape)\n",
    "\n",
    "# 5 - matris'in boyut sayısını öğrenin (kaç boyutlu olduğunu gösterir)\n",
    "print(\"Boyut sayısı:\", matris_reshape.ndim)\n"
   ]
  },
  {
   "attachments": {},
   "cell_type": "markdown",
   "metadata": {},
   "source": [
    "# Problem 2"
   ]
  },
  {
   "cell_type": "code",
   "execution_count": null,
   "metadata": {},
   "outputs": [],
   "source": [
    "import numpy as np\n",
    "\n",
    "# 1 - 0 ile 10 arasında bulunan tek sayılardan oluşan matris üretin\n",
    "tek_sayilar = np.arange(1, 10, 2)  \n",
    "print(\"Tek sayılardan oluşan matris:\", tek_sayilar)\n",
    "\n",
    "# 2 - Oluşturduğunuz matrisi parçalayın\n",
    "parca1, parca2 = np.array_split(tek_sayilar, 2)\n",
    "print(\"Parça 1:\", parca1)\n",
    "print(\"Parça 2:\", parca2)\n",
    "\n",
    "# 3 - Parçalanmış matrisleri birleştirin\n",
    "birlesik_matris = np.concatenate((parca1, parca2))\n",
    "print(\"Birleştirilmiş matris:\", birlesik_matris)\n"
   ]
  },
  {
   "attachments": {},
   "cell_type": "markdown",
   "metadata": {},
   "source": [
    "# Problem 3"
   ]
  },
  {
   "cell_type": "code",
   "execution_count": null,
   "metadata": {},
   "outputs": [],
   "source": [
    "import numpy as np\n",
    "\n",
    "# 1 - 5 ile 100 arasında ikişer ikişer atlayarak rastgele 10 sayıdan oluşan matris üretin\n",
    "sayilar_araligi = np.arange(5, 101, 2)  \n",
    "matris = np.random.choice(sayilar_araligi, size=10, replace=False)  \n",
    "print(\"Matris:\", matris)\n",
    "\n",
    "# 2 - matris'in özelliklerini inceleyin\n",
    "print(\"Şekil (shape):\", matris.shape)\n",
    "print(\"Boyut sayısı :\", matris.ndim)\n",
    "print(\"Eleman sayısı :\", matris.size)\n",
    "print(\"Veri tipi :\", matris.dtype)\n",
    "print(\"Minimum:\", matris.min())\n",
    "print(\"Maksimum:\", matris.max())\n",
    "print(\"Ortalama:\", matris.mean())\n"
   ]
  }
 ],
 "metadata": {
  "kernelspec": {
   "display_name": "Python 3",
   "language": "python",
   "name": "python3"
  },
  "language_info": {
   "name": "python",
   "version": "3.10.5 (tags/v3.10.5:f377153, Jun  6 2022, 16:14:13) [MSC v.1929 64 bit (AMD64)]"
  },
  "orig_nbformat": 4,
  "vscode": {
   "interpreter": {
    "hash": "5026d2d6e7aaaaba093def813beadff083d8733e4a511af01735cbabd156995d"
   }
  }
 },
 "nbformat": 4,
 "nbformat_minor": 2
}
