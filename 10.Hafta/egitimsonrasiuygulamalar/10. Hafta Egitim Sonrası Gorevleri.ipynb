{
 "cells": [
  {
   "attachments": {},
   "cell_type": "markdown",
   "metadata": {},
   "source": [
    "# Problem 1 "
   ]
  },
  {
   "cell_type": "code",
   "execution_count": 2,
   "metadata": {},
   "outputs": [
    {
     "name": "stdout",
     "output_type": "stream",
     "text": [
      "Orijinal array: [12  5 27  3 18]\n",
      "Sıralanmış array: [ 3  5 12 18 27]\n"
     ]
    }
   ],
   "source": [
    "# 1 - numpy kütüphanesini import edin\n",
    "import numpy as np\n",
    "\n",
    "# 2 - 5 elemanlı bir numpy array oluşturun\n",
    "dizi = np.array([12, 5, 27, 3, 18])\n",
    "print(\"Orijinal array:\", dizi)\n",
    "\n",
    "# 3 - Oluşturduğunuz arrayi küçükten büyüğe sıralayın\n",
    "sirali_dizi = np.sort(dizi)\n",
    "print(\"Sıralanmış array:\", sirali_dizi)\n"
   ]
  },
  {
   "cell_type": "code",
   "execution_count": null,
   "metadata": {},
   "outputs": [],
   "source": []
  },
  {
   "attachments": {},
   "cell_type": "markdown",
   "metadata": {},
   "source": [
    "# Problem 2"
   ]
  },
  {
   "cell_type": "code",
   "execution_count": 1,
   "metadata": {},
   "outputs": [
    {
     "name": "stdout",
     "output_type": "stream",
     "text": [
      "1: [10 15 30 45 60]\n",
      "2: [ 5  6  7  8  9 10 11 12 13 14 15]\n",
      "3: [ 50  55  60  65  70  75  80  85  90  95 100]\n",
      "4: [0. 0. 0. 0. 0. 0. 0. 0. 0. 0.]\n",
      "5: [1. 1. 1. 1. 1. 1. 1. 1. 1. 1.]\n",
      "6: [  0.  25.  50.  75. 100.]\n",
      "7: [17 25 11 18 25]\n",
      "8: [-0.94221604 -0.64108292 -0.19287658  0.97837246  0.16616802  0.66195806\n",
      "  0.14240152 -0.59222066 -0.14629095  0.0279712 ]\n",
      "9:\n",
      " [[33 16 47 40 49]\n",
      " [33 19 32 37 47]\n",
      " [49 41 35 33 29]]\n",
      "10 - Satır toplamları: [185 168 187]\n",
      "10 - Sütun toplamları: [115  76 114 110 125]\n",
      "11 - Max: 49\n",
      "11 - Min: 16\n",
      "11 - Ortalama: 36.0\n",
      "12 - En büyük değerin indeksi (satır, sütun): (np.int64(0), np.int64(4))\n",
      "13 - İlk 3 eleman: [10 11 12]\n",
      "14 - Tersten dizi13: [20 19 18 17 16 15 14 13 12 11 10]\n",
      "15 - İlk satır: [33 16 47 40 49]\n",
      "16 - 2.satır 3.sütun elemanı: 32\n",
      "17 - Tüm satırların ilk elemanı: [33 33 49]\n",
      "18 - Kareleri:\n",
      " [[1089  256 2209 1600 2401]\n",
      " [1089  361 1024 1369 2209]\n",
      " [2401 1681 1225 1089  841]]\n",
      "19 - Yeni matris:\n",
      " [[  4 -27  -8  36 -29]\n",
      " [ 25  24 -29 -18 -34]\n",
      " [-19 -43  21   4  27]]\n",
      "19 - Pozitif çift sayılar: [ 4 36 24  4]\n"
     ]
    }
   ],
   "source": [
    "import numpy as np\n",
    "\n",
    "# 1- (10,15,30,45,60) değerlerine sahip numpy dizisi oluşturunuz.\n",
    "dizi1 = np.array([10, 15, 30, 45, 60])\n",
    "print(\"1:\", dizi1)\n",
    "\n",
    "# 2- (5-15) arasındaki sayılarla numpy dizisi oluşturunuz.\n",
    "dizi2 = np.arange(5, 16)\n",
    "print(\"2:\", dizi2)\n",
    "\n",
    "# 3- (50-100) arasında 5'er 5'er artarak numpy dizisi oluşturunuz.\n",
    "dizi3 = np.arange(50, 101, 5)\n",
    "print(\"3:\", dizi3)\n",
    "\n",
    "# 4- 10 elemanlı sıfırlardan oluşan bir dizi oluşturunuz.\n",
    "dizi4 = np.zeros(10)\n",
    "print(\"4:\", dizi4)\n",
    "\n",
    "# 5- 10 elemanlı birlerden oluşan bir dizi oluşturunuz.\n",
    "dizi5 = np.ones(10)\n",
    "print(\"5:\", dizi5)\n",
    "\n",
    "# 6- (0-100) arasında eşit aralıklı 5 sayı üretin.\n",
    "dizi6 = np.linspace(0, 100, 5)\n",
    "print(\"6:\", dizi6)\n",
    "\n",
    "# 7- (10-30) arasında rastgele 5 tane tamsayı üretin.\n",
    "dizi7 = np.random.randint(10, 30, size=5)\n",
    "print(\"7:\", dizi7)\n",
    "\n",
    "# 8- [-1 ile 1] arasında 10 adet sayı üretin.\n",
    "dizi8 = np.random.uniform(-1, 1, 10)\n",
    "print(\"8:\", dizi8)\n",
    "\n",
    "# 9- (3x5) boyutlarında (10-50) arasında rastgele bir matris oluşturunuz.\n",
    "matris = np.random.randint(10, 50, size=(3, 5))\n",
    "print(\"9:\\n\", matris)\n",
    "\n",
    "# 10- Üretilen matrisin satır ve sütun sayıları toplamlarını hesaplayınız ?\n",
    "satir_toplam = matris.sum(axis=1)\n",
    "sutun_toplam = matris.sum(axis=0)\n",
    "print(\"10 - Satır toplamları:\", satir_toplam)\n",
    "print(\"10 - Sütun toplamları:\", sutun_toplam)\n",
    "\n",
    "# 11- Üretilen matrisin en büyük, en küçük ve ortalaması nedir ?\n",
    "print(\"11 - Max:\", matris.max())\n",
    "print(\"11 - Min:\", matris.min())\n",
    "print(\"11 - Ortalama:\", matris.mean())\n",
    "\n",
    "# 12- Üretilen matrisin en büyük değerinin indeksi kaçtır ?\n",
    "max_index = np.unravel_index(np.argmax(matris), matris.shape)\n",
    "print(\"12 - En büyük değerin indeksi (satır, sütun):\", max_index)\n",
    "\n",
    "# 13- (10-20) arasındaki sayıları içeren dizinin ilk 3 elemanını seçiniz.\n",
    "dizi13 = np.arange(10, 21)\n",
    "print(\"13 - İlk 3 eleman:\", dizi13[:3])\n",
    "\n",
    "# 14- Üretilen dizinin elemanlarını tersten yazdırın.\n",
    "print(\"14 - Tersten dizi13:\", dizi13[::-1])\n",
    "\n",
    "# 15- Üretilen matrisin ilk satırını seçiniz.\n",
    "print(\"15 - İlk satır:\", matris[0])\n",
    "\n",
    "# 16- Üretilen matrisin 2.satır 3.sütundaki elemanı hangisidir ?\n",
    "print(\"16 - 2.satır 3.sütun elemanı:\", matris[1, 2])\n",
    "\n",
    "# 17- Üretilen matrisin tüm satırlardaki ilk elemanı seçiniz.\n",
    "print(\"17 - Tüm satırların ilk elemanı:\", matris[:, 0])\n",
    "\n",
    "# 18- Üretilen matrisin her bir elemanının karesini alınız.\n",
    "print(\"18 - Kareleri:\\n\", matris ** 2)\n",
    "\n",
    "# 19- Üretilen matris elemanlarının hangisi pozitif çift sayıdır ? Aralığı (-50,+50) arasında yapınız.\n",
    "yeni_matris = np.random.randint(-50, 51, size=(3, 5))\n",
    "pozitif_ciftler = yeni_matris[(yeni_matris > 0) & (yeni_matris % 2 == 0)]\n",
    "print(\"19 - Yeni matris:\\n\", yeni_matris)\n",
    "print(\"19 - Pozitif çift sayılar:\", pozitif_ciftler)\n"
   ]
  },
  {
   "cell_type": "code",
   "execution_count": null,
   "metadata": {},
   "outputs": [],
   "source": []
  }
 ],
 "metadata": {
  "kernelspec": {
   "display_name": "Python 3",
   "language": "python",
   "name": "python3"
  },
  "language_info": {
   "codemirror_mode": {
    "name": "ipython",
    "version": 3
   },
   "file_extension": ".py",
   "mimetype": "text/x-python",
   "name": "python",
   "nbconvert_exporter": "python",
   "pygments_lexer": "ipython3",
   "version": "3.13.2"
  },
  "orig_nbformat": 4,
  "vscode": {
   "interpreter": {
    "hash": "5026d2d6e7aaaaba093def813beadff083d8733e4a511af01735cbabd156995d"
   }
  }
 },
 "nbformat": 4,
 "nbformat_minor": 2
}
