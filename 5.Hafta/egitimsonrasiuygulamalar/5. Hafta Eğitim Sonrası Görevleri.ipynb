{
 "cells": [
  {
   "cell_type": "markdown",
   "metadata": {
    "id": "Rm1DKmXZM-Ja"
   },
   "source": [
    "# Problem 1\n",
    "\n",
    "Fizikte, bir nesnenin sabit ivmeyle hareket ederken son hızını \n",
    "(veya hızını) bulmak için aşağıdaki denklem kullanılabilir:\n",
    "```\n",
    "vf = vi + at\n",
    "burada:\n",
    "vf= son hız\n",
    "vi= ilk hız\n",
    "a= hızlanma\n",
    "t= zaman\n",
    "```\n",
    "İlk hız, ivme ve zaman verildiğinde, son hızı döndürecek bir fonksiyon yazın."
   ]
  },
  {
   "cell_type": "code",
   "execution_count": null,
   "metadata": {
    "id": "vWrjJiV0M-Jk"
   },
   "outputs": [
    {
     "data": {
      "text/plain": [
       "108"
      ]
     },
     "execution_count": 2,
     "metadata": {},
     "output_type": "execute_result"
    }
   ],
   "source": [
    "# 1.Problemin Çözümünü Buraya Yazınız\n",
    "vi = float(input(\"ilk hizi giriniz: \"))\n",
    "a = float(input(\"ivmeyi giriniz: \"))\n",
    "t = float(input(\"zamanı giriniz: \"))\n",
    "\n",
    "def sonHiz():\n",
    "    vf = vi + a*t\n",
    "    return vf\n",
    "\n",
    "sonHiz()"
   ]
  },
  {
   "cell_type": "markdown",
   "metadata": {
    "id": "uAHpyY5HM-Jq"
   },
   "source": [
    "# Problem 2\n",
    "\n",
    "1'den 1000'e kadar olan sayılardan mükemmel sayı olanları ekrana yazdırın. Bunun için bir sayının mükemmel olup olmadığını dönen bir tane fonksiyon yazın.\n",
    "\n",
    "Bir sayının bölenlerinin toplamı kendine eşitse bu sayı mükemmel bir sayıdır. Örnek olarak 6 mükemmel bir sayıdır (1 + 2 + 3 = 6)."
   ]
  },
  {
   "cell_type": "code",
   "execution_count": 7,
   "metadata": {
    "id": "yrY4Y5ncM-Jr"
   },
   "outputs": [
    {
     "name": "stdout",
     "output_type": "stream",
     "text": [
      "1 ile 1000 arasındaki mükemmel sayilar: \n",
      "6\n",
      "28\n",
      "496\n"
     ]
    }
   ],
   "source": [
    "# 2.Problemin Çözümünü Buraya Yazınız\n",
    "\n",
    "def mukemmel_sayi_mi(sayi):\n",
    "    toplam = 0  \n",
    "    \n",
    "   \n",
    "    for i in range(1, sayi):  \n",
    "        if sayi % i == 0:  \n",
    "            toplam += i  \n",
    "    \n",
    "    return toplam == sayi  \n",
    "\n",
    "print(\"1 ile 1000 arasındaki mükemmel sayilar: \")\n",
    "for sayi in range(1, 1001):  \n",
    "    if mukemmel_sayi_mi(sayi):  \n",
    "        print(sayi)  \n",
    "\n",
    "\n"
   ]
  },
  {
   "cell_type": "markdown",
   "metadata": {
    "id": "C2-XwlJtM-Jr"
   },
   "source": [
    "# Problem 3\n",
    "\n",
    "1'den 100'e kadar olan sayılardan pisagor üçgeni oluşturanları ekrana yazdıran bir fonksiyon yazın.(a <= 100,b <= 100)\n"
   ]
  },
  {
   "cell_type": "code",
   "execution_count": 10,
   "metadata": {
    "id": "BMNy4xi-M-Js"
   },
   "outputs": [
    {
     "name": "stdout",
     "output_type": "stream",
     "text": [
      "3,4,5\n",
      "5,12,13\n",
      "6,8,10\n",
      "7,24,25\n",
      "8,15,17\n",
      "9,12,15\n",
      "9,40,41\n",
      "10,24,26\n",
      "11,60,61\n",
      "12,16,20\n",
      "12,35,37\n",
      "13,84,85\n",
      "14,48,50\n",
      "15,20,25\n",
      "15,36,39\n",
      "16,30,34\n",
      "16,63,65\n",
      "18,24,30\n",
      "18,80,82\n",
      "20,21,29\n",
      "20,48,52\n",
      "21,28,35\n",
      "21,72,75\n",
      "24,32,40\n",
      "24,45,51\n",
      "24,70,74\n",
      "25,60,65\n",
      "27,36,45\n",
      "28,45,53\n",
      "28,96,100\n",
      "30,40,50\n",
      "30,72,78\n",
      "32,60,68\n",
      "33,44,55\n",
      "33,56,65\n",
      "35,84,91\n",
      "36,48,60\n",
      "36,77,85\n",
      "39,52,65\n",
      "39,80,89\n",
      "40,42,58\n",
      "40,75,85\n",
      "42,56,70\n",
      "45,60,75\n",
      "48,55,73\n",
      "48,64,80\n",
      "51,68,85\n",
      "54,72,90\n",
      "57,76,95\n",
      "60,63,87\n",
      "60,80,100\n",
      "65,72,97\n"
     ]
    }
   ],
   "source": [
    "# 3.Problemin Çözümünü Buraya Yazınız\n",
    "\n",
    "def pisagor():\n",
    "    for a in range(1,101):\n",
    "        for b in range(a,101):\n",
    "            c = ((a**2 + b**2)**0.5)\n",
    "            if c <= 100 and c.is_integer() :\n",
    "                print(f\"{a},{b},{int(c)}\")\n",
    "\n",
    "pisagor()"
   ]
  },
  {
   "cell_type": "markdown",
   "metadata": {
    "id": "oPfmWi4jM-Js"
   },
   "source": [
    "# Problem 4\n",
    "\n",
    "Bir duvar boyamaya karar verdiniz. Boya kutusunun üzerindeki talimatta, 1 kutu boyanın 5 metrekarelik bir duvarı boyayabileceği yazıyor. Rastgele bir duvar yüksekliği ve genişliği verildiğinde, kaç kutu boya satın almanız gerektiğini hesaplayın.\n",
    "\n",
    "kutu sayısı = (duvar yüksekliği * duvar genişliği) ÷ kutu başına kaplama.\n",
    "\n",
    "örneğin Yükseklik = 2, Genişlik = 4, Kaplama = 5\n",
    "\n",
    "kutu sayısı = (2 * 4) ÷ 5 = 1.6\n",
    "\n",
    "Ancak bir kutu boyanın 0,6'sını satın alamayacağınız için, sonuç 2 kutuya yuvarlanmalıdır .\n"
   ]
  },
  {
   "cell_type": "code",
   "execution_count": null,
   "metadata": {
    "id": "0zuyzSp5M-Jt"
   },
   "outputs": [
    {
     "data": {
      "text/plain": [
       "2"
      ]
     },
     "execution_count": 4,
     "metadata": {},
     "output_type": "execute_result"
    }
   ],
   "source": [
    "# 4.Problemin Çözümünü Buraya Yazınız\n",
    "\n",
    "yukseklik = float(input(\"duvarin yüksekligini giriniz: \"))\n",
    "genislik = float(input(\"duvarin genisligini giriniz: \"))\n",
    "\n",
    "def yuvarla(sayi):\n",
    "    return int(sayi) + (sayi % 1 > 0)\n",
    "\n",
    "\n",
    "def boyama():\n",
    "  \n",
    "    kutuSayisi = (yukseklik*genislik) / 5\n",
    "    tamKutuSayisi = yuvarla(kutuSayisi)\n",
    "\n",
    "    return(tamKutuSayisi)\n",
    "\n",
    "boyama()\n",
    "\n",
    "\n"
   ]
  },
  {
   "cell_type": "code",
   "execution_count": 5,
   "metadata": {},
   "outputs": [
    {
     "name": "stdout",
     "output_type": "stream",
     "text": [
      "2 kadar kutu boya lazim\n"
     ]
    }
   ],
   "source": [
    "import math\n",
    "\n",
    "def boyama(yukseklik,genislik,kaplama):\n",
    "    alan = yukseklik*genislik\n",
    "    kutuSayisi=math.ceil(alan/kaplama)\n",
    "    print(f\"{kutuSayisi} kadar kutu boya lazim\")\n",
    "\n",
    "\n",
    "yukseklik = float(input(\"duvarin yüksekligini giriniz: \"))\n",
    "genislik = float(input(\"duvarin genisligini giriniz: \"))\n",
    "kaplama = 5\n",
    "\n",
    "boyama(yukseklik, genislik, kaplama)\n",
    "\n"
   ]
  },
  {
   "cell_type": "markdown",
   "metadata": {
    "id": "pe6TJuBBM-Ju"
   },
   "source": [
    "# Problem 5\n",
    "\n",
    "Bir kelimedeki ünlü ve ünsüz harfleri sayan bir fonksiyon yazınız."
   ]
  },
  {
   "cell_type": "code",
   "execution_count": 17,
   "metadata": {
    "id": "LJ0opjiLM-Ju"
   },
   "outputs": [
    {
     "name": "stdout",
     "output_type": "stream",
     "text": [
      "unlu harfler:  o\n",
      "unsuz harfler:  pythn\n"
     ]
    }
   ],
   "source": [
    "# 5.Problemin Çözümünü Buraya Yazınız\n",
    "\n",
    "kelime = input(\"kelime giriniz: \")\n",
    "def harfler(kelime):\n",
    "    unluHarfler = \"aeıioöuüAEIİOÖUÜ\"\n",
    "    unluler = \"\"\n",
    "    unsuzler = \"\"\n",
    "\n",
    "    for i in kelime:\n",
    "        if i in unluHarfler:\n",
    "            unluler += i\n",
    "        else:\n",
    "            unsuzler += i\n",
    "\n",
    "    print(\"unlu harfler: \", unluler)\n",
    "    print(\"unsuz harfler: \", unsuzler)\n",
    "\n",
    "\n",
    "harfler(kelime)"
   ]
  },
  {
   "cell_type": "markdown",
   "metadata": {
    "id": "Lfls2YTXM-Jv"
   },
   "source": [
    "# Problem 6\n",
    "\n",
    "Verilen bir listeden çift sayıları yazdıran bir fonksiyon yazınız.\n"
   ]
  },
  {
   "cell_type": "code",
   "execution_count": null,
   "metadata": {
    "id": "qUwsL20IM-Jv"
   },
   "outputs": [
    {
     "data": {
      "text/plain": [
       "[2, 6, 8, 4, 78]"
      ]
     },
     "execution_count": 21,
     "metadata": {},
     "output_type": "execute_result"
    }
   ],
   "source": [
    "# 6.Problemin Çözümünü Buraya Yazınız\n",
    "\n",
    "liste = [3,2,6,7,8,9,4,21,78]\n",
    "ciftSayilar = []\n",
    "\n",
    "def ciftMi(liste):\n",
    "    for i in list:\n",
    "        if i % 2 == 0:\n",
    "            ciftSayilar.append(i)\n",
    "    return ciftSayilar\n",
    "\n",
    "ciftMi(liste)\n",
    "            \n"
   ]
  },
  {
   "cell_type": "markdown",
   "metadata": {
    "id": "IPp724iIM-Jy"
   },
   "source": [
    "# Problem 7\n",
    "\n",
    "0'dan 10'a kadar olan sayıların toplamını hesaplayan özyinelemeli (Recursive Function) bir fonksiyon oluşturan bir fonksiyon yazınız.\n",
    "\n",
    "Özyinelemeli (Recursive Function) bir işlev, kendini tekrar tekrar çağıran bir işlevdir."
   ]
  },
  {
   "cell_type": "code",
   "execution_count": 26,
   "metadata": {
    "id": "KFW6xhTJM-Jz"
   },
   "outputs": [
    {
     "name": "stdout",
     "output_type": "stream",
     "text": [
      "1den 10a kadar toplam:  55\n"
     ]
    }
   ],
   "source": [
    "# 7.Problemin Çözümünü Buraya Yazınız\n",
    "\n",
    "def toplama():\n",
    "    toplam = 0\n",
    "    for i in range(1,11):\n",
    "        toplam += i\n",
    "    return toplam\n",
    "\n",
    "toplama()\n",
    "\n",
    "#recursive\n",
    "\n",
    "def toplama(i):\n",
    "    if i == 0:\n",
    "        return 0\n",
    "    return i + toplama(i-1)\n",
    "\n",
    "sonuc = toplama(10)\n",
    "print(\"1den 10a kadar toplam: \", sonuc)\n",
    "    \n",
    "\n"
   ]
  }
 ],
 "metadata": {
  "colab": {
   "provenance": []
  },
  "kernelspec": {
   "display_name": "Python 3",
   "language": "python",
   "name": "python3"
  },
  "language_info": {
   "codemirror_mode": {
    "name": "ipython",
    "version": 3
   },
   "file_extension": ".py",
   "mimetype": "text/x-python",
   "name": "python",
   "nbconvert_exporter": "python",
   "pygments_lexer": "ipython3",
   "version": "3.13.2"
  },
  "orig_nbformat": 4
 },
 "nbformat": 4,
 "nbformat_minor": 0
}
