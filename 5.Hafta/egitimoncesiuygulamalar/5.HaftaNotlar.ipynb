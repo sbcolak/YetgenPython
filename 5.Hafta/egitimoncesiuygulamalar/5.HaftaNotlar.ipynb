{
 "cells": [
  {
   "cell_type": "code",
   "execution_count": null,
   "metadata": {},
   "outputs": [],
   "source": [
    "#LIST COMPREHENSION\n",
    "\n",
    "#Liste işlemlerinde kodu uzun uzun yazmak yerine tek bir satırda düzenleme imkanı sunar.\n",
    "\n",
    "#[  x**2  for x in range (0,50) if x % 3 == 0]\n",
    "#-do this-for this collection - in this situation"
   ]
  },
  {
   "cell_type": "code",
   "execution_count": null,
   "metadata": {},
   "outputs": [
    {
     "name": "stdout",
     "output_type": "stream",
     "text": [
      "[1, 4, 9, 16, 25, 36, 49, 64, 81, 100]\n"
     ]
    }
   ],
   "source": [
    "#klasik yöntem\n",
    "\n",
    "list = [1,2,3,4,5,6,7,8,9,10]\n",
    "yeniList = []\n",
    "for i in list:\n",
    "    yeniList.append(i*i)\n",
    "print(yeniList)"
   ]
  },
  {
   "cell_type": "code",
   "execution_count": 3,
   "metadata": {},
   "outputs": [
    {
     "name": "stdout",
     "output_type": "stream",
     "text": [
      "[1, 4, 9, 16, 25, 36, 49, 64, 81, 100]\n"
     ]
    }
   ],
   "source": [
    "#list comp ile\n",
    "list = [1,2,3,4,5,6,7,8,9,10]\n",
    "yeniList = [i * i for i in list]\n",
    "print(yeniList)"
   ]
  },
  {
   "cell_type": "code",
   "execution_count": 2,
   "metadata": {},
   "outputs": [
    {
     "name": "stdout",
     "output_type": "stream",
     "text": [
      "[1, 2, 3, 4, 5, 6, 7, 8, 9, 10, 11, 12, 13, 14, 15]\n"
     ]
    }
   ],
   "source": [
    "list = [[1,2,3],[4,5,6,7,8], [9,10,11,12,13,14,15]]\n",
    "list2 = [x for i in list for x in i]\n",
    "print(list2)"
   ]
  },
  {
   "cell_type": "code",
   "execution_count": 3,
   "metadata": {},
   "outputs": [
    {
     "name": "stdout",
     "output_type": "stream",
     "text": [
      "[1, 2, 3, 5, 6, 7, 8, 10]\n"
     ]
    }
   ],
   "source": [
    "liste1 = [1,2,3,4,5,6,7,8,9,10]\n",
    "liste2 = [i for i in liste1 if not (i == 4 or i == 9)]\n",
    "print(liste2)"
   ]
  },
  {
   "cell_type": "code",
   "execution_count": null,
   "metadata": {},
   "outputs": [],
   "source": [
    "#FONKSİYONLAR\n",
    "\n",
    "#belirli bir kodu birden cok yerde kullanmamız gerekiyorsa bunu bir fonk olarak atarız\n",
    "#fonk icindeki degiskenler yereldir, içinde kullanılır. fonk dısında cagırılmaz\n",
    "#def fonk_adi(parametre1, parametre2,...):\n",
    "    #fonk blogu\n",
    "    #yapılacak islemler\n",
    "    #donus degeri - opsiyonel\n",
    "\n",
    "#fonk cağrısı\n",
    "#fonk_adi(argüman1, argüman2....)\n",
    "\n",
    "\n"
   ]
  },
  {
   "cell_type": "code",
   "execution_count": 4,
   "metadata": {},
   "outputs": [
    {
     "name": "stdout",
     "output_type": "stream",
     "text": [
      "merhaba\n"
     ]
    }
   ],
   "source": [
    "def selamla():\n",
    "    print(\"merhaba\")\n",
    "\n",
    "selamla()"
   ]
  },
  {
   "cell_type": "code",
   "execution_count": null,
   "metadata": {},
   "outputs": [
    {
     "name": "stdout",
     "output_type": "stream",
     "text": [
      "merhaba ziyaretçi\n",
      "merhaba berkcan\n"
     ]
    }
   ],
   "source": [
    "#ARGÜMAN:\n",
    "\n",
    "#fonk cagırılırken parantez icindeki islevlere iletilen degerler (str, int vb.)\n",
    "#eger fonk cagırılırken argüman yer almıyorsa degeri none\n",
    "\n",
    "def hello(name = \"ziyaretçi\"):\n",
    "    print(\"merhaba\", name)\n",
    "\n",
    "hello() #hiç isim girmedigimzi icin ziyaretci yazıcak\n",
    "hello(\"berkcan\")"
   ]
  },
  {
   "cell_type": "code",
   "execution_count": 7,
   "metadata": {},
   "outputs": [
    {
     "name": "stdout",
     "output_type": "stream",
     "text": [
      "6\n"
     ]
    }
   ],
   "source": [
    "def topla(sayi1,sayi2,sayi3):\n",
    "    toplam = sayi1+ sayi2 + sayi3\n",
    "    print(toplam)\n",
    "topla(1,2,3)"
   ]
  },
  {
   "cell_type": "code",
   "execution_count": 10,
   "metadata": {},
   "outputs": [
    {
     "name": "stdout",
     "output_type": "stream",
     "text": [
      "siteme hosgeldin berkcan gumussısık\n"
     ]
    }
   ],
   "source": [
    "def merhaba(name = \"berkcan\", surname = \"gumussısık\"):\n",
    "    print(\"siteme hosgeldin \" + name + \" \" + surname)\n",
    "merhaba()"
   ]
  },
  {
   "cell_type": "code",
   "execution_count": 11,
   "metadata": {},
   "outputs": [
    {
     "name": "stdout",
     "output_type": "stream",
     "text": [
      "30\n",
      "6\n",
      "2\n"
     ]
    }
   ],
   "source": [
    "def carp(sayi1 = 1, sayi2 = 1, sayi3 = 1):\n",
    "    c = sayi1*sayi2*sayi3\n",
    "    print(c)\n",
    "carp(2,3,5)\n",
    "carp(2,3)\n",
    "carp(2)\n"
   ]
  },
  {
   "cell_type": "code",
   "execution_count": null,
   "metadata": {},
   "outputs": [],
   "source": [
    "#RETURN\n",
    "\n",
    "#kodun tamamında kullanmak icin islevin kodu tamamladıktan sonra kalan sonuc degerini döndürür\n",
    "#return den sonraki kodlar yürütülmez, bu görmezden gelindikleri anlamına gelir\n",
    "#return ile fonk degerleri cagırıldıkları yere döndürülebilir.\n",
    "\n"
   ]
  },
  {
   "cell_type": "code",
   "execution_count": 12,
   "metadata": {},
   "outputs": [
    {
     "name": "stdout",
     "output_type": "stream",
     "text": [
      "3.0\n"
     ]
    }
   ],
   "source": [
    "def dikUcgenAlan(a,b):\n",
    "    return (a*b) / 2\n",
    "alan = dikUcgenAlan(2,3)\n",
    "print(alan)"
   ]
  },
  {
   "cell_type": "code",
   "execution_count": null,
   "metadata": {},
   "outputs": [],
   "source": [
    "#*args\n",
    "\n",
    "#sınırsız sayıda parametreli fonk olusturmak icin parametre onune tek yıldız(*) konabilir. \n",
    "#isimsiz argüman"
   ]
  },
  {
   "cell_type": "code",
   "execution_count": 13,
   "metadata": {},
   "outputs": [
    {
     "name": "stdout",
     "output_type": "stream",
     "text": [
      "(4,)\n",
      "(4, 5, 6, 7, 8, 9)\n"
     ]
    }
   ],
   "source": [
    "def sayilar(*x):\n",
    "    print(x)\n",
    "sayilar(4)\n",
    "sayilar(4,5,6,7,8,9)"
   ]
  },
  {
   "cell_type": "code",
   "execution_count": null,
   "metadata": {},
   "outputs": [],
   "source": [
    "#**kwargs\n",
    "\n",
    "#çift yıldızlı parametrelerin tek yıldızlardan en önemli farkı\n",
    "#konk cagırırken anahtar deger iliskisi ile cagırabilmemizdir. kwargslar sözlüklerde kullanılabilir.\n",
    "#isimli argümanlar"
   ]
  },
  {
   "cell_type": "code",
   "execution_count": 14,
   "metadata": {},
   "outputs": [
    {
     "name": "stdout",
     "output_type": "stream",
     "text": [
      "{'adi': 'berkcan', 'soyadi': 'gumusısık', 'yas': '23'}\n"
     ]
    }
   ],
   "source": [
    "def kimlikGoster(**kimlik):\n",
    "    print(kimlik)\n",
    "kimlikGoster(adi = \"berkcan\", soyadi = \"gumusısık\", yas = \"23\")"
   ]
  },
  {
   "cell_type": "code",
   "execution_count": 15,
   "metadata": {},
   "outputs": [
    {
     "name": "stdout",
     "output_type": "stream",
     "text": [
      "10\n",
      "(20, 30, 40, 50)\n",
      "6\n",
      "{'adi': 'berkcan', 'soyadi': 'gumusısık', 'yas': '23'}\n"
     ]
    }
   ],
   "source": [
    "def ornek(a, *sayilar, b, **kimlik):\n",
    "    print(a)\n",
    "    print(sayilar)\n",
    "    print(b)\n",
    "    print(kimlik)\n",
    "ornek(10,20,30,40,50, b=6,adi = \"berkcan\", soyadi = \"gumusısık\", yas = \"23\")\n"
   ]
  },
  {
   "cell_type": "code",
   "execution_count": null,
   "metadata": {},
   "outputs": [],
   "source": [
    "#PASS DEYİMİ\n",
    "\n",
    "#pass ifadesi null deger atama icin kullanılır.\n",
    "#acıklama ile geçiş iafesi arasındaki fark;\n",
    "#yorumlayıcı bir yorumu tamamen yok sayarken, gecis göz ardı edilmez."
   ]
  },
  {
   "cell_type": "code",
   "execution_count": null,
   "metadata": {},
   "outputs": [],
   "source": [
    "def carp(*sayilar):\n",
    "    for sayi in sayilar:\n",
    "        pass\n",
    "#program bos calısır ancak hata vermez / kodun devamını sonra yazmak istedigimizde kullanabiliyoruz"
   ]
  },
  {
   "cell_type": "code",
   "execution_count": null,
   "metadata": {},
   "outputs": [],
   "source": [
    "#GLOBAL VE YEREL DEGİSKENLER\n",
    "\n",
    "#fonk dısında tanımladıgımız her sey\n",
    "\n",
    "#fonk dısında oldugu icin global degiskenler\n",
    "def goster():\n",
    "    #fonk icinde tanımlananlar yerel degiskenler\n",
    "    #eger global olmasını istiyorsak;\n",
    "    global x\n",
    "\n",
    "#bir fonk kendi icinde tekrar cagirilirsa sonsuz donguye girer."
   ]
  },
  {
   "cell_type": "code",
   "execution_count": null,
   "metadata": {},
   "outputs": [],
   "source": [
    "#LAMBDA GÖSTERİMİ\n",
    "\n",
    "#isimsiz fonk lambda denir.\n",
    "#tek satırda yazılırlar\n",
    "#gösterimi: \n",
    "#fonk_adi = lambda parametreler : yapilacakIslem"
   ]
  },
  {
   "cell_type": "code",
   "execution_count": 18,
   "metadata": {},
   "outputs": [
    {
     "data": {
      "text/plain": [
       "3.0"
      ]
     },
     "execution_count": 18,
     "metadata": {},
     "output_type": "execute_result"
    }
   ],
   "source": [
    "dikUcgenAlan = lambda a,b: a*b/2\n",
    "dikUcgenAlan(2,3)"
   ]
  },
  {
   "cell_type": "code",
   "execution_count": 19,
   "metadata": {},
   "outputs": [
    {
     "name": "stdout",
     "output_type": "stream",
     "text": [
      "8\n"
     ]
    }
   ],
   "source": [
    "ikiyleCarp = lambda x: print(x*2)\n",
    "ikiyleCarp(4)"
   ]
  },
  {
   "cell_type": "code",
   "execution_count": 20,
   "metadata": {},
   "outputs": [
    {
     "name": "stdout",
     "output_type": "stream",
     "text": [
      "aneS\n"
     ]
    }
   ],
   "source": [
    "ters = lambda s: s[::-1]\n",
    "print(ters(\"Sena\"))"
   ]
  },
  {
   "cell_type": "code",
   "execution_count": null,
   "metadata": {},
   "outputs": [],
   "source": []
  },
  {
   "cell_type": "code",
   "execution_count": null,
   "metadata": {},
   "outputs": [],
   "source": []
  }
 ],
 "metadata": {
  "kernelspec": {
   "display_name": "Python 3",
   "language": "python",
   "name": "python3"
  },
  "language_info": {
   "codemirror_mode": {
    "name": "ipython",
    "version": 3
   },
   "file_extension": ".py",
   "mimetype": "text/x-python",
   "name": "python",
   "nbconvert_exporter": "python",
   "pygments_lexer": "ipython3",
   "version": "3.13.2"
  }
 },
 "nbformat": 4,
 "nbformat_minor": 2
}
