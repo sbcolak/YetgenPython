{
 "cells": [
  {
   "cell_type": "markdown",
   "id": "d2c6989f",
   "metadata": {},
   "source": [
    "METHOTLAR"
   ]
  },
  {
   "cell_type": "code",
   "execution_count": 2,
   "id": "d8441d57",
   "metadata": {},
   "outputs": [
    {
     "name": "stdout",
     "output_type": "stream",
     "text": [
      "\n",
      "        çalışan bilgisi:\n",
      "            isim : sena\n",
      "            soyisim : colak\n",
      "            numara : 12345\n",
      "            maas : 10000\n",
      "            bildigi diller : ['python', 'flutter', 'javascrpit']\n",
      "\n"
     ]
    }
   ],
   "source": [
    "class yazilimci():\n",
    "    def __init__(self, isim , soyisim, numara, maas, diller):\n",
    "        self.isim = isim\n",
    "        self.soyisim = soyisim\n",
    "        self.numara = numara\n",
    "        self.maas = maas\n",
    "        self.diller = diller\n",
    "\n",
    "    def bilgileriGoster(self):\n",
    "        print(f\"\"\"\n",
    "        çalışan bilgisi:\n",
    "            isim : {self.isim}\n",
    "            soyisim : {self.soyisim}\n",
    "            numara : {self.numara}\n",
    "            maas : {self.maas}\n",
    "            bildigi diller : {self.diller}\n",
    "\"\"\")\n",
    "    def dilEkle(self, yeniDil):\n",
    "        print(\"dil eklendi.\")\n",
    "        self.diller.append(yeniDil)\n",
    "\n",
    "    def maasYukselt(self, zam):\n",
    "        print(\"zam yapiliyor\")\n",
    "        self.maas += 250\n",
    "\n",
    "yazilimci = yazilimci(\"sena\",\"colak\",12345,10000,[\"python\",\"flutter\",\"javascrpit\"])\n",
    "\n",
    "yazilimci.bilgileriGoster()"
   ]
  },
  {
   "cell_type": "code",
   "execution_count": 3,
   "id": "da3ce4ef",
   "metadata": {},
   "outputs": [
    {
     "name": "stdout",
     "output_type": "stream",
     "text": [
      "zam yapiliyor\n"
     ]
    }
   ],
   "source": [
    "yazilimci.maasYukselt(250)"
   ]
  },
  {
   "cell_type": "code",
   "execution_count": 4,
   "id": "9cdf1c06",
   "metadata": {},
   "outputs": [
    {
     "name": "stdout",
     "output_type": "stream",
     "text": [
      "\n",
      "        çalışan bilgisi:\n",
      "            isim : sena\n",
      "            soyisim : colak\n",
      "            numara : 12345\n",
      "            maas : 10250\n",
      "            bildigi diller : ['python', 'flutter', 'javascrpit']\n",
      "\n"
     ]
    }
   ],
   "source": [
    "yazilimci.bilgileriGoster()"
   ]
  },
  {
   "cell_type": "markdown",
   "id": "a0702c78",
   "metadata": {},
   "source": [
    "INHERITANCE\n",
    "\n",
    "bir sınıfın özelliklerini ve metotlarının baska sınıfa aktarılmasını ve islevinin arttırılmasını saglar.\n",
    "\n",
    "örnegin, hem ogrenci hem ogretmen icin ortak özellikler ad,soyad, adres, cinsiyet, numarasıdır. bu özellikler icin bir kisi sınıfı olusturup, sonrasında ogretmene ozgu olarak ogretmen sınıfına brans ozelligi eklenebilir.\n",
    "\n",
    "super() : miras aldıgımız sınıfın metodlarını alt sınıflarda kullanmamızı saglar.\n",
    "super().init() : metodu calıstırırken sınıfın özelliklerini ve metotlarını kullanır.\n",
    "\n",
    "Base Class ana sınıftır.\n",
    "Sub Class base classın özelliklerini ve metodlarını kullanır.\n",
    "\n"
   ]
  },
  {
   "cell_type": "code",
   "execution_count": 10,
   "id": "51c5410d",
   "metadata": {},
   "outputs": [
    {
     "name": "stdout",
     "output_type": "stream",
     "text": [
      "person nesnesi turetildi.\n",
      "berkcan gumuisik 23\n"
     ]
    }
   ],
   "source": [
    "class person:\n",
    "    def __init__(self, name, surname, age):\n",
    "        self.name = name\n",
    "        self. surname = surname\n",
    "        self.age = age\n",
    "        print(\"person nesnesi turetildi.\")\n",
    "    def intro(self):\n",
    "        print(self.name, self.surname, self.age)\n",
    "\n",
    "class student(person):\n",
    "    def __init__(self, name, surname, age, number):\n",
    "        super().__init__(name,surname,age)\n",
    "        self.number = number\n",
    "        print(\"student nesnesi calisti.\")   \n",
    "    def intro(self):\n",
    "        print(self.name, self.surname, self.age, self.number)\n",
    "    def study(self):\n",
    "        print(f\"{self.number} numarali ogrenci ders calisiyor\")\n",
    "\n",
    "class teacher(person):\n",
    "    def __init__(self, name, surname, age, branch):\n",
    "        super().__init__(name, surname,age)\n",
    "        self.branch = branch\n",
    "        print(\"teacher nesnesi calisti\")\n",
    "    \n",
    "    def teach(self):\n",
    "        print(f\"{self.name} isimli ogretmen {self.branch} dersine girmektedir.\")\n",
    "\n",
    "p1 = person(\"berkcan\", \"gumuisik\",23)\n",
    "p1.intro()\n",
    "\n",
    "\n"
   ]
  },
  {
   "cell_type": "code",
   "execution_count": 11,
   "id": "8f6e6f1a",
   "metadata": {},
   "outputs": [
    {
     "name": "stdout",
     "output_type": "stream",
     "text": [
      "person nesnesi turetildi.\n",
      "student nesnesi calisti.\n",
      "yetgen jump 20 1001\n",
      "1001 numarali ogrenci ders calisiyor\n"
     ]
    }
   ],
   "source": [
    "s1 = student(\"yetgen\",\"jump\",20,1001)\n",
    "s1.intro()\n",
    "s1.study()"
   ]
  },
  {
   "cell_type": "code",
   "execution_count": 12,
   "id": "99532866",
   "metadata": {},
   "outputs": [
    {
     "name": "stdout",
     "output_type": "stream",
     "text": [
      "person nesnesi turetildi.\n",
      "teacher nesnesi calisti\n",
      "Ahmet celik 30\n",
      "Ahmet isimli ogretmen bilgisayar dersine girmektedir.\n"
     ]
    }
   ],
   "source": [
    "t1 = teacher(\"Ahmet\", \"celik\", 30, \"bilgisayar\")\n",
    "t1.intro()\n",
    "t1.teach()"
   ]
  },
  {
   "cell_type": "code",
   "execution_count": null,
   "id": "5cdec945",
   "metadata": {},
   "outputs": [],
   "source": []
  },
  {
   "cell_type": "code",
   "execution_count": null,
   "id": "682b8973",
   "metadata": {},
   "outputs": [],
   "source": []
  },
  {
   "cell_type": "code",
   "execution_count": null,
   "id": "0e700cbc",
   "metadata": {},
   "outputs": [],
   "source": []
  },
  {
   "cell_type": "code",
   "execution_count": null,
   "id": "b5a8cf34",
   "metadata": {},
   "outputs": [],
   "source": []
  },
  {
   "cell_type": "code",
   "execution_count": null,
   "id": "780b080f",
   "metadata": {},
   "outputs": [],
   "source": []
  }
 ],
 "metadata": {
  "kernelspec": {
   "display_name": "Python 3",
   "language": "python",
   "name": "python3"
  },
  "language_info": {
   "codemirror_mode": {
    "name": "ipython",
    "version": 3
   },
   "file_extension": ".py",
   "mimetype": "text/x-python",
   "name": "python",
   "nbconvert_exporter": "python",
   "pygments_lexer": "ipython3",
   "version": "3.13.2"
  }
 },
 "nbformat": 4,
 "nbformat_minor": 5
}
