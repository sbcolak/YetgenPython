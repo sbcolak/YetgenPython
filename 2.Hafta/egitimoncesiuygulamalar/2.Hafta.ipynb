{
 "cells": [
  {
   "cell_type": "code",
   "execution_count": 3,
   "metadata": {},
   "outputs": [
    {
     "name": "stdout",
     "output_type": "stream",
     "text": [
      "hello\n"
     ]
    }
   ],
   "source": [
    "print('hello')"
   ]
  },
  {
   "cell_type": "code",
   "execution_count": 4,
   "metadata": {},
   "outputs": [
    {
     "name": "stdout",
     "output_type": "stream",
     "text": [
      "\"hello\n"
     ]
    }
   ],
   "source": [
    "print(\"\"\"\"hello\"\"\")"
   ]
  },
  {
   "cell_type": "code",
   "execution_count": 5,
   "metadata": {},
   "outputs": [
    {
     "data": {
      "text/plain": [
       "'pyhton'"
      ]
     },
     "execution_count": 5,
     "metadata": {},
     "output_type": "execute_result"
    }
   ],
   "source": [
    "\"yetgen ile pyhton\"\n",
    "\"pyhton\" #print fonk olmadan sadece tırnak ile yazarsak en son satırı cıktı üretir."
   ]
  },
  {
   "cell_type": "code",
   "execution_count": null,
   "metadata": {},
   "outputs": [
    {
     "name": "stdout",
     "output_type": "stream",
     "text": [
      "ankara/istanbul/izmir\n"
     ]
    }
   ],
   "source": [
    "#SEP PARAMETRESİ *parametrelerin arasına ne konulacağını belirler.\n",
    "print(\"ankara\", \"istanbul\",\"izmir\", sep=\"/\")"
   ]
  },
  {
   "cell_type": "code",
   "execution_count": 7,
   "metadata": {},
   "outputs": [
    {
     "name": "stdout",
     "output_type": "stream",
     "text": [
      "yetgen dikeyine hos geldiniz."
     ]
    }
   ],
   "source": [
    "#END PARAMETRESİ *parametrelerin sonuna ne konulacağını belirler.\n",
    "print(\"yetgen dikeyine hos geldiniz\" , end=\".\")"
   ]
  },
  {
   "cell_type": "code",
   "execution_count": 10,
   "metadata": {},
   "outputs": [
    {
     "name": "stdout",
     "output_type": "stream",
     "text": [
      "3\n"
     ]
    }
   ],
   "source": [
    "#str olmayan ifadeleri tırnak işareti olmadan yazabilirim\n",
    "print(3)"
   ]
  },
  {
   "cell_type": "code",
   "execution_count": null,
   "metadata": {},
   "outputs": [
    {
     "name": "stdout",
     "output_type": "stream",
     "text": [
      "YetGen\n",
      "YetGen\n"
     ]
    }
   ],
   "source": [
    "# variables\n",
    "## değişken tanımlama kuralları\n",
    "a = \"YetGen\"\n",
    "print(a)\n",
    "print(a)"
   ]
  },
  {
   "cell_type": "code",
   "execution_count": 16,
   "metadata": {},
   "outputs": [],
   "source": [
    "isimSoyisim = \"a\" #camelCase adlandırma\n",
    "isim_soyisim = \"a\" #snake_case adlandırma\n"
   ]
  },
  {
   "cell_type": "code",
   "execution_count": 20,
   "metadata": {},
   "outputs": [
    {
     "name": "stdout",
     "output_type": "stream",
     "text": [
      "<class 'str'>\n",
      "<class 'int'>\n",
      "<class 'float'>\n",
      "<class 'bool'>\n"
     ]
    }
   ],
   "source": [
    "#type() KOMUTU\n",
    "#değişkenin tipini döner\n",
    "print(type(\"sena\"))\n",
    "print(type(1))\n",
    "print(type(1.6))\n",
    "print(type(True))"
   ]
  },
  {
   "cell_type": "code",
   "execution_count": 23,
   "metadata": {},
   "outputs": [
    {
     "name": "stdout",
     "output_type": "stream",
     "text": [
      "7\n"
     ]
    }
   ],
   "source": [
    "#MATEMATİKSEL İŞLEMLER\n",
    "## aritmetik operatörler\n",
    "\n",
    "a = 4\n",
    "b = 3\n",
    "\n",
    "print(a+b)"
   ]
  },
  {
   "cell_type": "code",
   "execution_count": 27,
   "metadata": {},
   "outputs": [
    {
     "ename": "ZeroDivisionError",
     "evalue": "division by zero",
     "output_type": "error",
     "traceback": [
      "\u001b[1;31m---------------------------------------------------------------------------\u001b[0m",
      "\u001b[1;31mZeroDivisionError\u001b[0m                         Traceback (most recent call last)",
      "Cell \u001b[1;32mIn[27], line 1\u001b[0m\n\u001b[1;32m----> 1\u001b[0m \u001b[38;5;28mprint\u001b[39m(\u001b[38;5;241;43m2\u001b[39;49m\u001b[38;5;241;43m/\u001b[39;49m\u001b[38;5;241;43m0\u001b[39;49m)\n",
      "\u001b[1;31mZeroDivisionError\u001b[0m: division by zero"
     ]
    }
   ],
   "source": [
    "print(2/0)"
   ]
  },
  {
   "cell_type": "code",
   "execution_count": 31,
   "metadata": {},
   "outputs": [
    {
     "name": "stdout",
     "output_type": "stream",
     "text": [
      "1\n",
      "64\n",
      "1\n"
     ]
    }
   ],
   "source": [
    "print(a%b) #mod alma\n",
    "print(a**b) #üs islemi\n",
    "print(a//b) #tam bölme"
   ]
  },
  {
   "cell_type": "code",
   "execution_count": 34,
   "metadata": {},
   "outputs": [
    {
     "name": "stdout",
     "output_type": "stream",
     "text": [
      "python öğreniyorum\n",
      "p\n",
      "m\n"
     ]
    }
   ],
   "source": [
    "#STRING\n",
    "x = \"python öğreniyorum\"\n",
    "print(x)\n",
    "print(x[0])\n",
    "print(x[-1]) #kelimeye 0. indexten basladıgı icin -1 kelimenin son harfi m olacaktır"
   ]
  },
  {
   "cell_type": "code",
   "execution_count": 41,
   "metadata": {},
   "outputs": [
    {
     "name": "stdout",
     "output_type": "stream",
     "text": [
      "sena colak\n",
      "sena  colak  25\n",
      "sena colak 25\n"
     ]
    }
   ],
   "source": [
    "name = \"sena\"\n",
    "surname = \"colak\"\n",
    "print(name + \" \"+ surname)\n",
    "\n",
    "age = 25\n",
    "\n",
    "print(name,\"\",surname,\"\",age ) #int ve string beraber yazdırma\n",
    "print(f\"{name} {surname} {age}\" ) #int ve string beraber yazdırma2"
   ]
  },
  {
   "cell_type": "code",
   "execution_count": 43,
   "metadata": {},
   "outputs": [
    {
     "name": "stdout",
     "output_type": "stream",
     "text": [
      "merhaba sena\n",
      "merhaba sena\n",
      "merhabasena\n"
     ]
    }
   ],
   "source": [
    "#input() - kullanıcıdan veri girişi almayı sağlar\n",
    "isim = input(\"isim giriniz : \")\n",
    "print(f\"merhaba {isim}\")\n",
    "print(\"merhaba\" , isim)\n",
    "print(\"merhaba\" + isim)"
   ]
  },
  {
   "cell_type": "code",
   "execution_count": 44,
   "metadata": {},
   "outputs": [
    {
     "name": "stdout",
     "output_type": "stream",
     "text": [
      "35\n"
     ]
    }
   ],
   "source": [
    "sayi1 = input(\"birinci sayı giriniz:\")\n",
    "sayi2 = input(\"ikinci sayı giriniz:\")\n",
    "print(sayi1 + sayi2) #toplamadan str olarak alıp yanyana yazacak\n"
   ]
  },
  {
   "cell_type": "code",
   "execution_count": 45,
   "metadata": {},
   "outputs": [
    {
     "name": "stdout",
     "output_type": "stream",
     "text": [
      "6.0\n"
     ]
    }
   ],
   "source": [
    "sayi1 = int(input(\"birinci sayı giriniz:\"))\n",
    "sayi2 = float(input(\"ikinci sayı giriniz:\"))\n",
    "print(sayi1+sayi2)"
   ]
  },
  {
   "cell_type": "code",
   "execution_count": null,
   "metadata": {},
   "outputs": [],
   "source": []
  },
  {
   "cell_type": "code",
   "execution_count": null,
   "metadata": {},
   "outputs": [],
   "source": []
  }
 ],
 "metadata": {
  "kernelspec": {
   "display_name": "Python 3",
   "language": "python",
   "name": "python3"
  },
  "language_info": {
   "codemirror_mode": {
    "name": "ipython",
    "version": 3
   },
   "file_extension": ".py",
   "mimetype": "text/x-python",
   "name": "python",
   "nbconvert_exporter": "python",
   "pygments_lexer": "ipython3",
   "version": "3.13.2"
  }
 },
 "nbformat": 4,
 "nbformat_minor": 2
}
